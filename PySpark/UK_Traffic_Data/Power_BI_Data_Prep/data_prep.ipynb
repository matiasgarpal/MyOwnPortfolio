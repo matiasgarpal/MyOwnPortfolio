{
 "cells": [
  {
   "cell_type": "markdown",
   "metadata": {},
   "source": [
    "<h1 align=\"center\"> Challenge Presentation </h1>"
   ]
  },
  {
   "cell_type": "markdown",
   "metadata": {},
   "source": [
    "<div align=\"center\">\n",
    "<img src=\"..\\..\\..\\01_aux_files\\img\\UK_Traffic_Data\\7.png\" height=\"20%\" width=\"30%\"/>\n",
    "<img src=\"..\\..\\..\\01_aux_files\\img\\UK_Traffic_Data\\6.png\" height=\"20%\" width=\"30%\"/>\n",
    "</div>"
   ]
  },
  {
   "cell_type": "markdown",
   "metadata": {},
   "source": [
    "## We will create the following tables for our Power Bi Report\n",
    "* dim_region\n",
    "* dim_vehicle\n",
    "* fact_road_vehicle_count\n",
    "### We will save them to the results folder"
   ]
  },
  {
   "cell_type": "code",
   "execution_count": 50,
   "metadata": {},
   "outputs": [],
   "source": [
    "from pyspark.sql.session import SparkSession\n",
    "from pyspark.sql.functions import col, split, lpad, lit, regexp_replace, concat, upper, trim, coalesce, sum, count"
   ]
  },
  {
   "cell_type": "code",
   "execution_count": 51,
   "metadata": {},
   "outputs": [],
   "source": [
    "spark = SparkSession.builder.appName(\"myapp\").getOrCreate()"
   ]
  },
  {
   "cell_type": "markdown",
   "metadata": {},
   "source": [
    "## Creating and storing our dim_date"
   ]
  },
  {
   "cell_type": "code",
   "execution_count": 14,
   "metadata": {},
   "outputs": [],
   "source": [
    "import pandas as pd;"
   ]
  },
  {
   "cell_type": "code",
   "execution_count": 16,
   "metadata": {},
   "outputs": [
    {
     "data": {
      "text/html": [
       "<div>\n",
       "<style scoped>\n",
       "    .dataframe tbody tr th:only-of-type {\n",
       "        vertical-align: middle;\n",
       "    }\n",
       "\n",
       "    .dataframe tbody tr th {\n",
       "        vertical-align: top;\n",
       "    }\n",
       "\n",
       "    .dataframe thead th {\n",
       "        text-align: right;\n",
       "    }\n",
       "</style>\n",
       "<table border=\"1\" class=\"dataframe\">\n",
       "  <thead>\n",
       "    <tr style=\"text-align: right;\">\n",
       "      <th></th>\n",
       "      <th>date_id</th>\n",
       "      <th>year</th>\n",
       "      <th>month</th>\n",
       "      <th>period</th>\n",
       "      <th>month_name</th>\n",
       "      <th>day</th>\n",
       "      <th>date</th>\n",
       "    </tr>\n",
       "  </thead>\n",
       "  <tbody>\n",
       "    <tr>\n",
       "      <th>0</th>\n",
       "      <td>20000101</td>\n",
       "      <td>2000</td>\n",
       "      <td>01</td>\n",
       "      <td>2000-01</td>\n",
       "      <td>JANUARY</td>\n",
       "      <td>01</td>\n",
       "      <td>2000-01-01</td>\n",
       "    </tr>\n",
       "    <tr>\n",
       "      <th>1</th>\n",
       "      <td>20000102</td>\n",
       "      <td>2000</td>\n",
       "      <td>01</td>\n",
       "      <td>2000-01</td>\n",
       "      <td>JANUARY</td>\n",
       "      <td>02</td>\n",
       "      <td>2000-01-02</td>\n",
       "    </tr>\n",
       "    <tr>\n",
       "      <th>2</th>\n",
       "      <td>20000103</td>\n",
       "      <td>2000</td>\n",
       "      <td>01</td>\n",
       "      <td>2000-01</td>\n",
       "      <td>JANUARY</td>\n",
       "      <td>03</td>\n",
       "      <td>2000-01-03</td>\n",
       "    </tr>\n",
       "    <tr>\n",
       "      <th>3</th>\n",
       "      <td>20000104</td>\n",
       "      <td>2000</td>\n",
       "      <td>01</td>\n",
       "      <td>2000-01</td>\n",
       "      <td>JANUARY</td>\n",
       "      <td>04</td>\n",
       "      <td>2000-01-04</td>\n",
       "    </tr>\n",
       "    <tr>\n",
       "      <th>4</th>\n",
       "      <td>20000105</td>\n",
       "      <td>2000</td>\n",
       "      <td>01</td>\n",
       "      <td>2000-01</td>\n",
       "      <td>JANUARY</td>\n",
       "      <td>05</td>\n",
       "      <td>2000-01-05</td>\n",
       "    </tr>\n",
       "    <tr>\n",
       "      <th>...</th>\n",
       "      <td>...</td>\n",
       "      <td>...</td>\n",
       "      <td>...</td>\n",
       "      <td>...</td>\n",
       "      <td>...</td>\n",
       "      <td>...</td>\n",
       "      <td>...</td>\n",
       "    </tr>\n",
       "    <tr>\n",
       "      <th>9127</th>\n",
       "      <td>20241227</td>\n",
       "      <td>2024</td>\n",
       "      <td>12</td>\n",
       "      <td>2024-12</td>\n",
       "      <td>DECEMBER</td>\n",
       "      <td>27</td>\n",
       "      <td>2024-12-27</td>\n",
       "    </tr>\n",
       "    <tr>\n",
       "      <th>9128</th>\n",
       "      <td>20241228</td>\n",
       "      <td>2024</td>\n",
       "      <td>12</td>\n",
       "      <td>2024-12</td>\n",
       "      <td>DECEMBER</td>\n",
       "      <td>28</td>\n",
       "      <td>2024-12-28</td>\n",
       "    </tr>\n",
       "    <tr>\n",
       "      <th>9129</th>\n",
       "      <td>20241229</td>\n",
       "      <td>2024</td>\n",
       "      <td>12</td>\n",
       "      <td>2024-12</td>\n",
       "      <td>DECEMBER</td>\n",
       "      <td>29</td>\n",
       "      <td>2024-12-29</td>\n",
       "    </tr>\n",
       "    <tr>\n",
       "      <th>9130</th>\n",
       "      <td>20241230</td>\n",
       "      <td>2024</td>\n",
       "      <td>12</td>\n",
       "      <td>2024-12</td>\n",
       "      <td>DECEMBER</td>\n",
       "      <td>30</td>\n",
       "      <td>2024-12-30</td>\n",
       "    </tr>\n",
       "    <tr>\n",
       "      <th>9131</th>\n",
       "      <td>20241231</td>\n",
       "      <td>2024</td>\n",
       "      <td>12</td>\n",
       "      <td>2024-12</td>\n",
       "      <td>DECEMBER</td>\n",
       "      <td>31</td>\n",
       "      <td>2024-12-31</td>\n",
       "    </tr>\n",
       "  </tbody>\n",
       "</table>\n",
       "<p>9132 rows × 7 columns</p>\n",
       "</div>"
      ],
      "text/plain": [
       "       date_id  year month   period month_name day       date\n",
       "0     20000101  2000    01  2000-01    JANUARY  01 2000-01-01\n",
       "1     20000102  2000    01  2000-01    JANUARY  02 2000-01-02\n",
       "2     20000103  2000    01  2000-01    JANUARY  03 2000-01-03\n",
       "3     20000104  2000    01  2000-01    JANUARY  04 2000-01-04\n",
       "4     20000105  2000    01  2000-01    JANUARY  05 2000-01-05\n",
       "...        ...   ...   ...      ...        ...  ..        ...\n",
       "9127  20241227  2024    12  2024-12   DECEMBER  27 2024-12-27\n",
       "9128  20241228  2024    12  2024-12   DECEMBER  28 2024-12-28\n",
       "9129  20241229  2024    12  2024-12   DECEMBER  29 2024-12-29\n",
       "9130  20241230  2024    12  2024-12   DECEMBER  30 2024-12-30\n",
       "9131  20241231  2024    12  2024-12   DECEMBER  31 2024-12-31\n",
       "\n",
       "[9132 rows x 7 columns]"
      ]
     },
     "execution_count": 16,
     "metadata": {},
     "output_type": "execute_result"
    }
   ],
   "source": [
    "dates = pd.date_range(start=\"2000-01-01\", end=\"2024-12-31\")\n",
    "\n",
    "df = pd.DataFrame(\n",
    "    {\n",
    "    \"date_id\": dates.strftime(\"%Y%m%d\").astype(int),\n",
    "    \"year\": dates.year,\n",
    "    \"month\": dates.strftime(\"%m\"),\n",
    "    \"period\": dates.strftime(\"%Y-%m\"),\n",
    "    \"month_name\": dates.strftime(\"%B\").str.upper(),\n",
    "    \"day\": dates.strftime(\"%d\"),\n",
    "    \"date\": dates\n",
    "    }\n",
    ")  \n",
    "df"
   ]
  },
  {
   "cell_type": "code",
   "execution_count": 17,
   "metadata": {},
   "outputs": [
    {
     "name": "stdout",
     "output_type": "stream",
     "text": [
      "dim_time stored!\n"
     ]
    }
   ],
   "source": [
    "df.to_parquet(r\"..\\..\\..\\01_aux_files\\results\\UK_Traffic_Data\\Power_BI\\dim_time\\dim_time.parquet\")\n",
    "print(\"dim_time stored!\")"
   ]
  },
  {
   "cell_type": "markdown",
   "metadata": {},
   "source": [
    "## Extracting the main source"
   ]
  },
  {
   "cell_type": "code",
   "execution_count": 55,
   "metadata": {},
   "outputs": [],
   "source": [
    "df = spark.read.parquet(r\"..\\..\\..\\01_aux_files\\source\\UK_Traffic_Data\\dft_traffic_counts_raw_counts\\dft_traffic_counts_raw_counts.parquet\")\n",
    "new_columns = [col(column).alias(column.lower()) for column in df.columns]\n",
    "df = df.select(*new_columns)"
   ]
  },
  {
   "cell_type": "code",
   "execution_count": 56,
   "metadata": {},
   "outputs": [
    {
     "name": "stdout",
     "output_type": "stream",
     "text": [
      "+--------------+-------------------+----+-------------------+----+---------+-----------+---------------+------------------+--------------------+--------------------+---------+-------------+---------+------------------------+----------------------+-------+--------+------------+------------+--------------+-------------------+------------+--------------------------+--------------+-----------------+----+-----------------+-----------------+-------------------------+----------------------------+-----------------------+-----------------------+--------+------------------+\n",
      "|count_point_id|direction_of_travel|year|         count_date|hour|region_id|region_name|region_ons_code|local_authority_id|local_authority_name|local_authority_code|road_name|road_category|road_type|start_junction_road_name|end_junction_road_name|easting|northing|    latitude|   longitude|link_length_km|  link_length_miles|pedal_cycles|two_wheeled_motor_vehicles|cars_and_taxis|buses_and_coaches|lgvs|hgvs_2_rigid_axle|hgvs_3_rigid_axle|hgvs_4_or_more_rigid_axle|hgvs_3_or_4_articulated_axle|hgvs_5_articulated_axle|hgvs_6_articulated_axle|all_hgvs|all_motor_vehicles|\n",
      "+--------------+-------------------+----+-------------------+----+---------+-----------+---------------+------------------+--------------------+--------------------+---------+-------------+---------+------------------------+----------------------+-------+--------+------------+------------+--------------+-------------------+------------+--------------------------+--------------+-----------------+----+-----------------+-----------------+-------------------------+----------------------------+-----------------------+-----------------------+--------+------------------+\n",
      "|           749|                  E|2014|2014-06-25 00:00:00|   7|        3|   Scotland|      S92000003|                39|       East Ayrshire|           S12000008|      A77|           TA|    Major|             LA boundary|                   A76| 243900|  635900|55.591636456|-4.478605862|          4.60|2.86000000000000000|           0|                         2|           845|                5|  31|               15|                4|                        4|                           4|                     13|                     12|      52|               935|\n",
      "|           749|                  E|2014|2014-06-25 00:00:00|   8|        3|   Scotland|      S92000003|                39|       East Ayrshire|           S12000008|      A77|           TA|    Major|             LA boundary|                   A76| 243900|  635900|55.591636456|-4.478605862|          4.60|2.86000000000000000|           0|                         5|           908|                7| 103|               29|                3|                        2|                           7|                     18|                     20|      79|              1102|\n",
      "|           749|                  E|2014|2014-06-25 00:00:00|   9|        3|   Scotland|      S92000003|                39|       East Ayrshire|           S12000008|      A77|           TA|    Major|             LA boundary|                   A76| 243900|  635900|55.591636456|-4.478605862|          4.60|2.86000000000000000|           0|                         2|           595|               14|  88|               21|                3|                        5|                           9|                     17|                     19|      74|               773|\n",
      "|           749|                  E|2014|2014-06-25 00:00:00|  10|        3|   Scotland|      S92000003|                39|       East Ayrshire|           S12000008|      A77|           TA|    Major|             LA boundary|                   A76| 243900|  635900|55.591636456|-4.478605862|          4.60|2.86000000000000000|           0|                         1|           590|                8|  90|               31|                6|                       10|                           7|                     18|                     17|      89|               778|\n",
      "|           749|                  E|2014|2014-06-25 00:00:00|  11|        3|   Scotland|      S92000003|                39|       East Ayrshire|           S12000008|      A77|           TA|    Major|             LA boundary|                   A76| 243900|  635900|55.591636456|-4.478605862|          4.60|2.86000000000000000|           0|                         2|           695|               18|  75|               38|                2|                        2|                           3|                     16|                     24|      85|               875|\n",
      "|           749|                  E|2014|2014-06-25 00:00:00|  12|        3|   Scotland|      S92000003|                39|       East Ayrshire|           S12000008|      A77|           TA|    Major|             LA boundary|                   A76| 243900|  635900|55.591636456|-4.478605862|          4.60|2.86000000000000000|           0|                         2|           607|                7|  90|               16|                5|                        2|                           4|                      9|                     12|      48|               754|\n",
      "|           749|                  W|2014|2014-06-25 00:00:00|  13|        3|   Scotland|      S92000003|                39|       East Ayrshire|           S12000008|      A77|           TA|    Major|             LA boundary|                   A76| 243900|  635900|55.591636456|-4.478605862|          4.60|2.86000000000000000|           0|                         1|           731|                6|  93|               21|                9|                        3|                           4|                     15|                     13|      65|               896|\n",
      "|           749|                  W|2014|2014-06-25 00:00:00|  14|        3|   Scotland|      S92000003|                39|       East Ayrshire|           S12000008|      A77|           TA|    Major|             LA boundary|                   A76| 243900|  635900|55.591636456|-4.478605862|          4.60|2.86000000000000000|           0|                         0|           809|               10| 102|               24|                8|                        4|                           3|                     14|                     16|      69|               990|\n",
      "|           749|                  W|2014|2014-06-25 00:00:00|  15|        3|   Scotland|      S92000003|                39|       East Ayrshire|           S12000008|      A77|           TA|    Major|             LA boundary|                   A76| 243900|  635900|55.591636456|-4.478605862|          4.60|2.86000000000000000|           0|                         6|           755|               12| 134|               23|                5|                        2|                           6|                     12|                     17|      65|               972|\n",
      "|           749|                  W|2014|2014-06-25 00:00:00|  16|        3|   Scotland|      S92000003|                39|       East Ayrshire|           S12000008|      A77|           TA|    Major|             LA boundary|                   A76| 243900|  635900|55.591636456|-4.478605862|          4.60|2.86000000000000000|           0|                         6|           936|               13| 181|               21|                1|                        1|                           5|                     10|                     10|      48|              1184|\n",
      "|           749|                  W|2014|2014-06-25 00:00:00|  17|        3|   Scotland|      S92000003|                39|       East Ayrshire|           S12000008|      A77|           TA|    Major|             LA boundary|                   A76| 243900|  635900|55.591636456|-4.478605862|          4.60|2.86000000000000000|           0|                         4|          1117|               17|  93|                6|                2|                        2|                           5|                     13|                     12|      40|              1271|\n",
      "|           749|                  W|2014|2014-06-25 00:00:00|  18|        3|   Scotland|      S92000003|                39|       East Ayrshire|           S12000008|      A77|           TA|    Major|             LA boundary|                   A76| 243900|  635900|55.591636456|-4.478605862|          4.60|2.86000000000000000|           0|                         5|           860|                7|  61|                1|                3|                        2|                           1|                      9|                      9|      25|               958|\n",
      "|           749|                  W|2014|2014-06-25 00:00:00|   7|        3|   Scotland|      S92000003|                39|       East Ayrshire|           S12000008|      A77|           TA|    Major|             LA boundary|                   A76| 243900|  635900|55.591636456|-4.478605862|          4.60|2.86000000000000000|           0|                         2|           703|                5| 199|               41|                4|                        7|                           8|                      7|                     11|      78|               987|\n",
      "|           749|                  W|2014|2014-06-25 00:00:00|   8|        3|   Scotland|      S92000003|                39|       East Ayrshire|           S12000008|      A77|           TA|    Major|             LA boundary|                   A76| 243900|  635900|55.591636456|-4.478605862|          4.60|2.86000000000000000|           0|                         0|           925|               10| 193|               46|                2|                        4|                           8|                     12|                      8|      80|              1208|\n",
      "|           749|                  W|2014|2014-06-25 00:00:00|   9|        3|   Scotland|      S92000003|                39|       East Ayrshire|           S12000008|      A77|           TA|    Major|             LA boundary|                   A76| 243900|  635900|55.591636456|-4.478605862|          4.60|2.86000000000000000|           0|                         4|           851|               10| 164|               29|                6|                        6|                           4|                     15|                     15|      75|              1104|\n",
      "|           749|                  W|2014|2014-06-25 00:00:00|  10|        3|   Scotland|      S92000003|                39|       East Ayrshire|           S12000008|      A77|           TA|    Major|             LA boundary|                   A76| 243900|  635900|55.591636456|-4.478605862|          4.60|2.86000000000000000|           0|                         1|           588|               18| 104|               24|                7|                        6|                           5|                     17|                     16|      75|               786|\n",
      "|           749|                  W|2014|2014-06-25 00:00:00|  11|        3|   Scotland|      S92000003|                39|       East Ayrshire|           S12000008|      A77|           TA|    Major|             LA boundary|                   A76| 243900|  635900|55.591636456|-4.478605862|          4.60|2.86000000000000000|           0|                         3|           578|               11| 105|               25|                6|                        1|                          10|                     18|                     21|      81|               778|\n",
      "|           749|                  W|2014|2014-06-25 00:00:00|  12|        3|   Scotland|      S92000003|                39|       East Ayrshire|           S12000008|      A77|           TA|    Major|             LA boundary|                   A76| 243900|  635900|55.591636456|-4.478605862|          4.60|2.86000000000000000|           0|                         0|           623|                7|  79|               26|                4|                        1|                           3|                     11|                     14|      59|               768|\n",
      "|           749|                  E|2014|2014-06-25 00:00:00|  13|        3|   Scotland|      S92000003|                39|       East Ayrshire|           S12000008|      A77|           TA|    Major|             LA boundary|                   A76| 243900|  635900|55.591636456|-4.478605862|          4.60|2.86000000000000000|           0|                         1|           620|                6|  82|               28|                3|                       11|                           7|                     19|                     11|      79|               788|\n",
      "|           749|                  E|2014|2014-06-25 00:00:00|  14|        3|   Scotland|      S92000003|                39|       East Ayrshire|           S12000008|      A77|           TA|    Major|             LA boundary|                   A76| 243900|  635900|55.591636456|-4.478605862|          4.60|2.86000000000000000|           0|                         2|           655|                9| 111|               27|                9|                        6|                           3|                      6|                     13|      64|               841|\n",
      "+--------------+-------------------+----+-------------------+----+---------+-----------+---------------+------------------+--------------------+--------------------+---------+-------------+---------+------------------------+----------------------+-------+--------+------------+------------+--------------+-------------------+------------+--------------------------+--------------+-----------------+----+-----------------+-----------------+-------------------------+----------------------------+-----------------------+-----------------------+--------+------------------+\n",
      "only showing top 20 rows\n",
      "\n"
     ]
    }
   ],
   "source": [
    "df.show()"
   ]
  },
  {
   "cell_type": "code",
   "execution_count": 57,
   "metadata": {},
   "outputs": [
    {
     "data": {
      "text/plain": [
       "[('count_point_id', 'string'),\n",
       " ('direction_of_travel', 'string'),\n",
       " ('year', 'string'),\n",
       " ('count_date', 'string'),\n",
       " ('hour', 'string'),\n",
       " ('region_id', 'string'),\n",
       " ('region_name', 'string'),\n",
       " ('region_ons_code', 'string'),\n",
       " ('local_authority_id', 'string'),\n",
       " ('local_authority_name', 'string'),\n",
       " ('local_authority_code', 'string'),\n",
       " ('road_name', 'string'),\n",
       " ('road_category', 'string'),\n",
       " ('road_type', 'string'),\n",
       " ('start_junction_road_name', 'string'),\n",
       " ('end_junction_road_name', 'string'),\n",
       " ('easting', 'string'),\n",
       " ('northing', 'string'),\n",
       " ('latitude', 'string'),\n",
       " ('longitude', 'string'),\n",
       " ('link_length_km', 'string'),\n",
       " ('link_length_miles', 'string'),\n",
       " ('pedal_cycles', 'string'),\n",
       " ('two_wheeled_motor_vehicles', 'string'),\n",
       " ('cars_and_taxis', 'string'),\n",
       " ('buses_and_coaches', 'string'),\n",
       " ('lgvs', 'string'),\n",
       " ('hgvs_2_rigid_axle', 'string'),\n",
       " ('hgvs_3_rigid_axle', 'string'),\n",
       " ('hgvs_4_or_more_rigid_axle', 'string'),\n",
       " ('hgvs_3_or_4_articulated_axle', 'string'),\n",
       " ('hgvs_5_articulated_axle', 'string'),\n",
       " ('hgvs_6_articulated_axle', 'string'),\n",
       " ('all_hgvs', 'string'),\n",
       " ('all_motor_vehicles', 'string')]"
      ]
     },
     "execution_count": 57,
     "metadata": {},
     "output_type": "execute_result"
    }
   ],
   "source": [
    "df.dtypes"
   ]
  },
  {
   "cell_type": "markdown",
   "metadata": {},
   "source": [
    "### Creating dim_region"
   ]
  },
  {
   "cell_type": "code",
   "execution_count": 58,
   "metadata": {},
   "outputs": [
    {
     "name": "stdout",
     "output_type": "stream",
     "text": [
      "+--------------+-------------------+----+----------+----+---------+-----------+---------------+------------------+--------------------+--------------------+---------+-------------+---------+------------------------+----------------------+-------+--------+--------+---------+--------------+-----------------+------------+--------------------------+--------------+-----------------+----+-----------------+-----------------+-------------------------+----------------------------+-----------------------+-----------------------+--------+------------------+\n",
      "|count_point_id|direction_of_travel|year|count_date|hour|region_id|region_name|region_ons_code|local_authority_id|local_authority_name|local_authority_code|road_name|road_category|road_type|start_junction_road_name|end_junction_road_name|easting|northing|latitude|longitude|link_length_km|link_length_miles|pedal_cycles|two_wheeled_motor_vehicles|cars_and_taxis|buses_and_coaches|lgvs|hgvs_2_rigid_axle|hgvs_3_rigid_axle|hgvs_4_or_more_rigid_axle|hgvs_3_or_4_articulated_axle|hgvs_5_articulated_axle|hgvs_6_articulated_axle|all_hgvs|all_motor_vehicles|\n",
      "+--------------+-------------------+----+----------+----+---------+-----------+---------------+------------------+--------------------+--------------------+---------+-------------+---------+------------------------+----------------------+-------+--------+--------+---------+--------------+-----------------+------------+--------------------------+--------------+-----------------+----+-----------------+-----------------+-------------------------+----------------------------+-----------------------+-----------------------+--------+------------------+\n",
      "+--------------+-------------------+----+----------+----+---------+-----------+---------------+------------------+--------------------+--------------------+---------+-------------+---------+------------------------+----------------------+-------+--------+--------+---------+--------------+-----------------+------------+--------------------------+--------------+-----------------+----+-----------------+-----------------+-------------------------+----------------------------+-----------------------+-----------------------+--------+------------------+\n",
      "\n"
     ]
    }
   ],
   "source": [
    "df.filter(\n",
    "    (col(\"region_id\").isNull()) |\n",
    "    (col(\"road_name\").isNull()) |\n",
    "    (col(\"road_category\").isNull()) |\n",
    "    (col(\"latitude\").isNull()) |\n",
    "    (col(\"longitude\").isNull()) \n",
    ").show()"
   ]
  },
  {
   "cell_type": "code",
   "execution_count": 59,
   "metadata": {},
   "outputs": [],
   "source": [
    "dim_region = df.select(\n",
    "            \"region_id\", \"region_name\", \"road_name\", \"road_category\", \"road_type\",\n",
    "            \"latitude\", \"longitude\"\n",
    "        ).\\\n",
    "        filter( \n",
    "                (col(\"region_id\").isNotNull()) & \n",
    "                (col(\"latitude\").isNotNull()) &\n",
    "                (col(\"longitude\").isNotNull())\n",
    "        ).\\\n",
    "        distinct().\\\n",
    "        withColumn(\"lat_long\", concat(trim(col(\"latitude\")), lit(\", \"), trim(col(\"longitude\")))).\\\n",
    "        withColumn(\"region_name\", coalesce(upper(trim(col(\"region_name\"))) , lit(\"NOT SPECIFIED\") )).\\\n",
    "        withColumn(\"road_name\",   coalesce(upper(trim(\"road_name\"))        , lit(\"NOT SPECIFIED\") )).\\\n",
    "        withColumn(\"road_category\", upper(trim(\"road_category\"))).\\\n",
    "        withColumn(\"road_type\", upper(trim(\"road_type\"))).\\\n",
    "        withColumn(\"region_id\",   concat(col(\"region_id\"), lit('-'), 'road_name', lit('-'), 'road_category',lit('-'), 'lat_long')).\\\n",
    "        coalesce(1)\n",
    "        #To avoid creating multiple files\n",
    "\n"
   ]
  },
  {
   "cell_type": "code",
   "execution_count": 60,
   "metadata": {},
   "outputs": [
    {
     "name": "stdout",
     "output_type": "stream",
     "text": [
      "+---------+------+\n",
      "|region_id|cuenta|\n",
      "+---------+------+\n",
      "+---------+------+\n",
      "\n"
     ]
    }
   ],
   "source": [
    "dim_region.groupBy('region_id').agg(count(lit(1)).alias('cuenta')).filter(col('cuenta') != 1).show()"
   ]
  },
  {
   "cell_type": "code",
   "execution_count": 61,
   "metadata": {},
   "outputs": [
    {
     "name": "stdout",
     "output_type": "stream",
     "text": [
      "dim_region stored!\n"
     ]
    }
   ],
   "source": [
    "dim_region.write.parquet(r\"..\\..\\..\\01_aux_files\\results\\UK_Traffic_Data\\Power_BI\\dim_region\", mode=\"overwrite\")\n",
    "print(\"dim_region stored!\")"
   ]
  },
  {
   "cell_type": "markdown",
   "metadata": {},
   "source": [
    "### Defining fact (we will make some extra transformations on Power BI)"
   ]
  },
  {
   "cell_type": "code",
   "execution_count": 62,
   "metadata": {},
   "outputs": [],
   "source": [
    "list_of_float_fields = [\"pedal_cycles\", \"two_wheeled_motor_vehicles\", \"cars_and_taxis\", \"buses_and_coaches\", \"lgvs\", \"hgvs_2_rigid_axle\", \"hgvs_3_rigid_axle\", \"hgvs_4_or_more_rigid_axle\",\n",
    "    \"hgvs_3_or_4_articulated_axle\", \"hgvs_5_articulated_axle\", \"hgvs_6_articulated_axle\"]"
   ]
  },
  {
   "cell_type": "code",
   "execution_count": 63,
   "metadata": {},
   "outputs": [],
   "source": [
    "fact = df.select(\n",
    "            \"region_id\", 'road_name', 'road_category', 'latitude', 'longitude', \"count_date\", \"pedal_cycles\", \"two_wheeled_motor_vehicles\",\n",
    "            \"cars_and_taxis\", \"buses_and_coaches\", \"lgvs\", \"hgvs_2_rigid_axle\", \"hgvs_3_rigid_axle\", \"hgvs_4_or_more_rigid_axle\",\n",
    "            \"hgvs_3_or_4_articulated_axle\", \"hgvs_5_articulated_axle\", \"hgvs_6_articulated_axle\"\n",
    "        ).\\\n",
    "        withColumn(\"region_id\", coalesce(col(\"region_id\").cast(\"int\"), lit(-1))).\\\n",
    "        withColumn(\"date_id\", regexp_replace((split(col(\"count_date\"), \" \").getItem(0)), \"-\", \"\" ).cast(\"int\")).\\\n",
    "        withColumn(\"region_id\",   concat(col(\"region_id\"), lit('-'), 'road_name', lit('-'),\n",
    "                                         'road_category', lit('-'), 'latitude', lit(', '), 'longitude')).\\\n",
    "        drop('road_name', 'road_category', 'latitude', 'longitude').\\\n",
    "        drop(\"count_date\")\n",
    "\n",
    "for colName in list_of_float_fields:\n",
    "    fact.withColumn(colName, col(colName).cast(\"int\"))"
   ]
  },
  {
   "cell_type": "markdown",
   "metadata": {},
   "source": [
    "## Although this code is just to simplify the group by writing, it's important to remember that\n",
    "## sum by default returns a double, which is heavier for our data model calculations than an int"
   ]
  },
  {
   "cell_type": "code",
   "execution_count": 64,
   "metadata": {},
   "outputs": [
    {
     "name": "stdout",
     "output_type": "stream",
     "text": [
      "sum('pedal_cycles').cast('int').alias('pedal_cycles'),\n",
      "sum('two_wheeled_motor_vehicles').cast('int').alias('two_wheeled_motor_vehicles'),\n",
      "sum('cars_and_taxis').cast('int').alias('cars_and_taxis'),\n",
      "sum('buses_and_coaches').cast('int').alias('buses_and_coaches'),\n",
      "sum('lgvs').cast('int').alias('lgvs'),\n",
      "sum('hgvs_2_rigid_axle').cast('int').alias('hgvs_2_rigid_axle'),\n",
      "sum('hgvs_3_rigid_axle').cast('int').alias('hgvs_3_rigid_axle'),\n",
      "sum('hgvs_4_or_more_rigid_axle').cast('int').alias('hgvs_4_or_more_rigid_axle'),\n",
      "sum('hgvs_3_or_4_articulated_axle').cast('int').alias('hgvs_3_or_4_articulated_axle'),\n",
      "sum('hgvs_5_articulated_axle').cast('int').alias('hgvs_5_articulated_axle'),\n",
      "sum('hgvs_6_articulated_axle').cast('int').alias('hgvs_6_articulated_axle'),\n"
     ]
    }
   ],
   "source": [
    "for x in list_of_float_fields:\n",
    "    print(f\"sum('{x}').cast('int').alias('{x}'),\")"
   ]
  },
  {
   "cell_type": "markdown",
   "metadata": {},
   "source": [
    "### As we are not considering hours of the day, we must summarize our data"
   ]
  },
  {
   "cell_type": "code",
   "execution_count": 65,
   "metadata": {},
   "outputs": [],
   "source": [
    "fact = fact.groupBy('region_id', 'date_id').agg(\n",
    "    sum('pedal_cycles').cast('int').alias('pedal_cycles'),\n",
    "    sum('two_wheeled_motor_vehicles').cast('int').alias('two_wheeled_motor_vehicles'),\n",
    "    sum('cars_and_taxis').cast('int').alias('cars_and_taxis'),\n",
    "    sum('buses_and_coaches').cast('int').alias('buses_and_coaches'),\n",
    "    sum('lgvs').cast('int').alias('lgvs'),\n",
    "    sum('hgvs_2_rigid_axle').cast('int').alias('hgvs_2_rigid_axle'),\n",
    "    sum('hgvs_3_rigid_axle').cast('int').alias('hgvs_3_rigid_axle'),\n",
    "    sum('hgvs_4_or_more_rigid_axle').cast('int').alias('hgvs_4_or_more_rigid_axle'),\n",
    "    sum('hgvs_3_or_4_articulated_axle').cast('int').alias('hgvs_3_or_4_articulated_axle'),\n",
    "    sum('hgvs_5_articulated_axle').cast('int').alias('hgvs_5_articulated_axle'),\n",
    "    sum('hgvs_6_articulated_axle').cast('int').alias('hgvs_6_articulated_axle')\n",
    ").coalesce(1).persist()"
   ]
  },
  {
   "cell_type": "code",
   "execution_count": 66,
   "metadata": {},
   "outputs": [
    {
     "name": "stdout",
     "output_type": "stream",
     "text": [
      "total rows after summarizing: 202926\n",
      "The less, the better for our model\n"
     ]
    }
   ],
   "source": [
    "print(\"total rows after summarizing:\", fact.count())\n",
    "print(\"The less, the better for our model\")"
   ]
  },
  {
   "cell_type": "code",
   "execution_count": 67,
   "metadata": {},
   "outputs": [
    {
     "name": "stdout",
     "output_type": "stream",
     "text": [
      "+--------------------+--------+------------+--------------------------+--------------+-----------------+-----+-----------------+-----------------+-------------------------+----------------------------+-----------------------+-----------------------+\n",
      "|           region_id| date_id|pedal_cycles|two_wheeled_motor_vehicles|cars_and_taxis|buses_and_coaches| lgvs|hgvs_2_rigid_axle|hgvs_3_rigid_axle|hgvs_4_or_more_rigid_axle|hgvs_3_or_4_articulated_axle|hgvs_5_articulated_axle|hgvs_6_articulated_axle|\n",
      "+--------------------+--------+------------+--------------------------+--------------+-----------------+-----+-----------------+-----------------+-------------------------+----------------------------+-----------------------+-----------------------+\n",
      "|5-A56-PA-53.34049...|20140520|          21|                        91|         15017|               70| 2377|              426|               83|                       91|                          46|                    479|                    328|\n",
      "|4-A48-PA-51.51334...|20140612|          27|                       490|         57397|              503| 8182|             1169|              210|                      205|                          98|                    637|                    550|\n",
      "|8-M62-TM-53.73319...|20140619|           0|                       342|         70162|              286|15770|             4328|              700|                      533|                        1071|                   5236|                   5223|\n",
      "|10-M42-TM-52.4212...|20140513|           0|                       176|         82615|              367|14202|             3698|              570|                      718|                        1045|                   5485|                   1577|\n",
      "|9-A23-TA-50.89528...|20140924|           0|                       257|         37471|              268| 7765|             1148|              191|                      335|                          89|                    157|                    581|\n",
      "|9-A24-PA-50.82419...|20140916|         383|                       232|         15836|              218| 2435|              196|               34|                       15|                          27|                     21|                     19|\n",
      "|1-A35-PA-50.73823...|20140924|         130|                       121|          8713|               49| 1803|              231|               21|                       39|                          22|                     34|                     54|\n",
      "|6-A12-PA-51.58107...|20140515|          48|                       932|         33613|              338| 5908|             1282|              133|                      334|                          30|                     93|                    274|\n",
      "|4-A4232-PA-51.459...|20140618|         191|                       253|         38241|              275| 4435|              605|              223|                      153|                          33|                    178|                    206|\n",
      "|2-A5460-PA-52.599...|20141015|          46|                        52|         29837|              117| 4701|              463|               86|                      103|                          36|                    125|                    124|\n",
      "|2-B1188-MB-53.087...|20140929|           3|                        21|          2325|               22|  416|               76|               23|                       11|                           4|                     15|                     14|\n",
      "|7-B1077-MB-52.406...|20140515|          22|                        54|          3011|               32|  571|               75|               11|                        6|                           9|                     11|                     23|\n",
      "|7-B1077-MB-52.231...|20140710|          10|                        12|          1399|               15|  309|               49|                1|                        1|                           7|                      8|                      9|\n",
      "|9-C-MCU-51.637447...|20140610|           1|                         0|           298|                0|   82|                1|                0|                        0|                           0|                      0|                      0|\n",
      "|9-U-MCU-50.866403...|20140904|           5|                         6|           501|               60|  165|                5|                4|                        0|                           0|                      0|                      0|\n",
      "|6-U-MCU-51.398093...|20140707|          41|                        12|           918|                0|  100|                9|                0|                        0|                           0|                      0|                      0|\n",
      "|5-U-MCU-53.489513...|20141016|          20|                         9|           605|               54|   93|                5|                0|                        0|                           0|                      0|                      0|\n",
      "|10-A50-TA-52.9911...|20140915|           0|                       304|         55190|              113| 9589|             2563|              417|                      367|                         278|                    662|                   3319|\n",
      "|8-U-MCU-53.546180...|20141015|           7|                        14|           984|                0|  211|                5|                0|                        1|                           0|                      0|                      0|\n",
      "|9-C-MCU-51.205184...|20141003|          23|                         7|           594|                0|   91|                6|                2|                        0|                           0|                      0|                      0|\n",
      "+--------------------+--------+------------+--------------------------+--------------+-----------------+-----+-----------------+-----------------+-------------------------+----------------------------+-----------------------+-----------------------+\n",
      "only showing top 20 rows\n",
      "\n"
     ]
    }
   ],
   "source": [
    "fact.show()"
   ]
  },
  {
   "cell_type": "code",
   "execution_count": 68,
   "metadata": {},
   "outputs": [
    {
     "name": "stdout",
     "output_type": "stream",
     "text": [
      "fact_road_vehicle_count stored!\n"
     ]
    }
   ],
   "source": [
    "fact.coalesce(1).write.parquet(r\"..\\..\\..\\01_aux_files\\results\\UK_Traffic_Data\\Power_BI\\fact_road_vehicle_count\", mode=\"overwrite\")\n",
    "\n",
    "print(\"fact_road_vehicle_count stored!\")"
   ]
  }
 ],
 "metadata": {
  "kernelspec": {
   "display_name": "Python 3",
   "language": "python",
   "name": "python3"
  },
  "language_info": {
   "codemirror_mode": {
    "name": "ipython",
    "version": 3
   },
   "file_extension": ".py",
   "mimetype": "text/x-python",
   "name": "python",
   "nbconvert_exporter": "python",
   "pygments_lexer": "ipython3",
   "version": "3.10.9"
  },
  "orig_nbformat": 4
 },
 "nbformat": 4,
 "nbformat_minor": 2
}
