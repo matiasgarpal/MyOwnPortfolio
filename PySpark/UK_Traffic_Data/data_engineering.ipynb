{
 "cells": [
  {
   "cell_type": "markdown",
   "metadata": {},
   "source": [
    "<h1 align='center'> Challenge Presentation </h1>"
   ]
  },
  {
   "cell_type": "markdown",
   "metadata": {},
   "source": [
    "<div align='center'>\n",
    "<img src=\"..\\..\\01_aux_files\\img\\UK_Traffic_Data\\1.png\" height='20%' width='20%'/>\n",
    "<img src=\"..\\..\\01_aux_files\\img\\UK_Traffic_Data\\2.png\" height='20%' width='20%'/>\n",
    "<img src=\"..\\..\\01_aux_files\\img\\UK_Traffic_Data\\3.png\" height='20%' width='20%'/>\n",
    "</div>\n",
    "<div align='center'>\n",
    "<img src=\"..\\..\\01_aux_files\\img\\UK_Traffic_Data\\4.png\" height='20%' width='30%'/>\n",
    "<img src=\"..\\..\\01_aux_files\\img\\UK_Traffic_Data\\5.png\" height='20%' width='30%'/>\n",
    "</div>\n",
    "\n",
    "\n"
   ]
  },
  {
   "cell_type": "markdown",
   "metadata": {},
   "source": [
    "### Importing necessary libraries"
   ]
  },
  {
   "cell_type": "code",
   "execution_count": 63,
   "metadata": {},
   "outputs": [],
   "source": [
    "from pyspark.sql.session import SparkSession\n",
    "from pyspark.sql.functions import col, to_date, split, weekofyear, month, lpad, when, lit, regexp_replace, count, avg, year, row_number, sum\n",
    "from pyspark.sql.window import Window"
   ]
  },
  {
   "cell_type": "markdown",
   "metadata": {},
   "source": [
    "### Defining Spark Session"
   ]
  },
  {
   "cell_type": "code",
   "execution_count": 64,
   "metadata": {},
   "outputs": [],
   "source": [
    "spark = SparkSession.builder.appName(\"myapp\").getOrCreate()\n",
    "spark.conf.set(\"spark.sql.legacy.timeParserPolicy\", \"LEGACY\")"
   ]
  },
  {
   "cell_type": "markdown",
   "metadata": {},
   "source": [
    "### Consuming data and cleaning column names"
   ]
  },
  {
   "cell_type": "code",
   "execution_count": 65,
   "metadata": {},
   "outputs": [],
   "source": [
    "df = spark.read.parquet(r'..\\..\\01_aux_files\\source\\UK_Traffic_Data\\dft_traffic_counts_raw_counts\\dft_traffic_counts_raw_counts.parquet')\n",
    "new_columns = [col(column).alias(column.lower()) for column in df.columns]\n",
    "df = df.select(*new_columns)"
   ]
  },
  {
   "cell_type": "markdown",
   "metadata": {},
   "source": [
    "### First of all, let's check our data"
   ]
  },
  {
   "cell_type": "markdown",
   "metadata": {},
   "source": [
    "AADF: Annual average daily flows\n",
    "* Count_point_id – a unique reference for the road link that links the AADFs to the road network.\n",
    "* Direction_of_travel – Direction of travel.\n",
    "* Year – Counts are shown for each year from 2000 onwards.\n",
    "* Count_date – the date when the actual count took place.\n",
    "* Hour – the time when the counts in questions took place where 7 represents between 7am and 8am, and 17 represents between 5pm and 6pm.\n",
    "* Region_id – Website region identifier.\n",
    "* Region_name – the name of the Region that the CP sits within.\n",
    "* Region_ons_code – the Office for National Statistics code identifier for the region.\n",
    "* Local_authority_id – Website local authority identifier.\n",
    "* Local_authority_name – the local authority that the CP sits within\n",
    "* Local_authority_code – the Office for National Statistics code identifier for the local authority.\n",
    "* Road_name – this is the road name (for instance M25 or A3).\n",
    "* Road_category – the classification of the road type (see data definitions for the full list).\n",
    "* Road_type – Whether the road is a ‘major’ or ‘minor’ road.\n",
    "* Start_junction_road_name – The road name of the start junction of the link\n",
    "* End_junction_road_name – The road name of the end junction of the link\n",
    "* Easting – Easting coordinates of the CP location.\n",
    "* Northing – Northing coordinates of the CP location.\n",
    "* Latitude – Latitude of the CP location.\n",
    "* Longitude – Longitude of the CP location.\n",
    "* Link_length_km – Total length of the network road link for that CP (in kilometres).\n",
    "* Link_length _miles – Total length of the network road link for that CP (in miles).\n",
    "* Pedal_cycles – Counts for pedal cycles.\n",
    "* Two_wheeled_motor_vehicles – Counts for two-wheeled motor vehicles.\n",
    "* Cars_and_taxis - Counts for Cars and Taxis.\n",
    "* Buses_and_coaches – Counts for Buses and Coaches\n",
    "* LGVs – Counts for LGVs.\n",
    "* HGVs_2_rigid_axle – Counts for two-rigid axle HGVs.\n",
    "* HGVs_3_rigid_axle – Counts for three-rigid axle HGVs.\n",
    "* HGVs_4_or_more_rigid_axle – Counts for four or more rigid axle HGVs.\n",
    "* HGVs_3_or_4_articulated_axle – Counts for three or four-articulated axle HGVs.\n",
    "* HGVs_5_articulated_axle – Counts for five-articulated axle HGVs.\n",
    "* HGVs_6_articulated_axle – Counts for six-articulated axle HGVs.\n",
    "* All_HGVs – Counts for all HGVs.\n",
    "* All_motor_vehicles – Counts for all motor vehicles."
   ]
  },
  {
   "cell_type": "code",
   "execution_count": 66,
   "metadata": {},
   "outputs": [
    {
     "name": "stdout",
     "output_type": "stream",
     "text": [
      "+--------------+-------------------+----+-------------------+----+---------+-----------+---------------+------------------+--------------------+--------------------+---------+-------------+---------+------------------------+----------------------+-------+--------+------------+------------+--------------+-------------------+------------+--------------------------+--------------+-----------------+----+-----------------+-----------------+-------------------------+----------------------------+-----------------------+-----------------------+--------+------------------+\n",
      "|count_point_id|direction_of_travel|year|         count_date|hour|region_id|region_name|region_ons_code|local_authority_id|local_authority_name|local_authority_code|road_name|road_category|road_type|start_junction_road_name|end_junction_road_name|easting|northing|    latitude|   longitude|link_length_km|  link_length_miles|pedal_cycles|two_wheeled_motor_vehicles|cars_and_taxis|buses_and_coaches|lgvs|hgvs_2_rigid_axle|hgvs_3_rigid_axle|hgvs_4_or_more_rigid_axle|hgvs_3_or_4_articulated_axle|hgvs_5_articulated_axle|hgvs_6_articulated_axle|all_hgvs|all_motor_vehicles|\n",
      "+--------------+-------------------+----+-------------------+----+---------+-----------+---------------+------------------+--------------------+--------------------+---------+-------------+---------+------------------------+----------------------+-------+--------+------------+------------+--------------+-------------------+------------+--------------------------+--------------+-----------------+----+-----------------+-----------------+-------------------------+----------------------------+-----------------------+-----------------------+--------+------------------+\n",
      "|           749|                  E|2014|2014-06-25 00:00:00|   7|        3|   Scotland|      S92000003|                39|       East Ayrshire|           S12000008|      A77|           TA|    Major|             LA boundary|                   A76| 243900|  635900|55.591636456|-4.478605862|          4.60|2.86000000000000000|           0|                         2|           845|                5|  31|               15|                4|                        4|                           4|                     13|                     12|      52|               935|\n",
      "|           749|                  E|2014|2014-06-25 00:00:00|   8|        3|   Scotland|      S92000003|                39|       East Ayrshire|           S12000008|      A77|           TA|    Major|             LA boundary|                   A76| 243900|  635900|55.591636456|-4.478605862|          4.60|2.86000000000000000|           0|                         5|           908|                7| 103|               29|                3|                        2|                           7|                     18|                     20|      79|              1102|\n",
      "|           749|                  E|2014|2014-06-25 00:00:00|   9|        3|   Scotland|      S92000003|                39|       East Ayrshire|           S12000008|      A77|           TA|    Major|             LA boundary|                   A76| 243900|  635900|55.591636456|-4.478605862|          4.60|2.86000000000000000|           0|                         2|           595|               14|  88|               21|                3|                        5|                           9|                     17|                     19|      74|               773|\n",
      "|           749|                  E|2014|2014-06-25 00:00:00|  10|        3|   Scotland|      S92000003|                39|       East Ayrshire|           S12000008|      A77|           TA|    Major|             LA boundary|                   A76| 243900|  635900|55.591636456|-4.478605862|          4.60|2.86000000000000000|           0|                         1|           590|                8|  90|               31|                6|                       10|                           7|                     18|                     17|      89|               778|\n",
      "|           749|                  E|2014|2014-06-25 00:00:00|  11|        3|   Scotland|      S92000003|                39|       East Ayrshire|           S12000008|      A77|           TA|    Major|             LA boundary|                   A76| 243900|  635900|55.591636456|-4.478605862|          4.60|2.86000000000000000|           0|                         2|           695|               18|  75|               38|                2|                        2|                           3|                     16|                     24|      85|               875|\n",
      "|           749|                  E|2014|2014-06-25 00:00:00|  12|        3|   Scotland|      S92000003|                39|       East Ayrshire|           S12000008|      A77|           TA|    Major|             LA boundary|                   A76| 243900|  635900|55.591636456|-4.478605862|          4.60|2.86000000000000000|           0|                         2|           607|                7|  90|               16|                5|                        2|                           4|                      9|                     12|      48|               754|\n",
      "|           749|                  W|2014|2014-06-25 00:00:00|  13|        3|   Scotland|      S92000003|                39|       East Ayrshire|           S12000008|      A77|           TA|    Major|             LA boundary|                   A76| 243900|  635900|55.591636456|-4.478605862|          4.60|2.86000000000000000|           0|                         1|           731|                6|  93|               21|                9|                        3|                           4|                     15|                     13|      65|               896|\n",
      "|           749|                  W|2014|2014-06-25 00:00:00|  14|        3|   Scotland|      S92000003|                39|       East Ayrshire|           S12000008|      A77|           TA|    Major|             LA boundary|                   A76| 243900|  635900|55.591636456|-4.478605862|          4.60|2.86000000000000000|           0|                         0|           809|               10| 102|               24|                8|                        4|                           3|                     14|                     16|      69|               990|\n",
      "|           749|                  W|2014|2014-06-25 00:00:00|  15|        3|   Scotland|      S92000003|                39|       East Ayrshire|           S12000008|      A77|           TA|    Major|             LA boundary|                   A76| 243900|  635900|55.591636456|-4.478605862|          4.60|2.86000000000000000|           0|                         6|           755|               12| 134|               23|                5|                        2|                           6|                     12|                     17|      65|               972|\n",
      "|           749|                  W|2014|2014-06-25 00:00:00|  16|        3|   Scotland|      S92000003|                39|       East Ayrshire|           S12000008|      A77|           TA|    Major|             LA boundary|                   A76| 243900|  635900|55.591636456|-4.478605862|          4.60|2.86000000000000000|           0|                         6|           936|               13| 181|               21|                1|                        1|                           5|                     10|                     10|      48|              1184|\n",
      "|           749|                  W|2014|2014-06-25 00:00:00|  17|        3|   Scotland|      S92000003|                39|       East Ayrshire|           S12000008|      A77|           TA|    Major|             LA boundary|                   A76| 243900|  635900|55.591636456|-4.478605862|          4.60|2.86000000000000000|           0|                         4|          1117|               17|  93|                6|                2|                        2|                           5|                     13|                     12|      40|              1271|\n",
      "|           749|                  W|2014|2014-06-25 00:00:00|  18|        3|   Scotland|      S92000003|                39|       East Ayrshire|           S12000008|      A77|           TA|    Major|             LA boundary|                   A76| 243900|  635900|55.591636456|-4.478605862|          4.60|2.86000000000000000|           0|                         5|           860|                7|  61|                1|                3|                        2|                           1|                      9|                      9|      25|               958|\n",
      "|           749|                  W|2014|2014-06-25 00:00:00|   7|        3|   Scotland|      S92000003|                39|       East Ayrshire|           S12000008|      A77|           TA|    Major|             LA boundary|                   A76| 243900|  635900|55.591636456|-4.478605862|          4.60|2.86000000000000000|           0|                         2|           703|                5| 199|               41|                4|                        7|                           8|                      7|                     11|      78|               987|\n",
      "|           749|                  W|2014|2014-06-25 00:00:00|   8|        3|   Scotland|      S92000003|                39|       East Ayrshire|           S12000008|      A77|           TA|    Major|             LA boundary|                   A76| 243900|  635900|55.591636456|-4.478605862|          4.60|2.86000000000000000|           0|                         0|           925|               10| 193|               46|                2|                        4|                           8|                     12|                      8|      80|              1208|\n",
      "|           749|                  W|2014|2014-06-25 00:00:00|   9|        3|   Scotland|      S92000003|                39|       East Ayrshire|           S12000008|      A77|           TA|    Major|             LA boundary|                   A76| 243900|  635900|55.591636456|-4.478605862|          4.60|2.86000000000000000|           0|                         4|           851|               10| 164|               29|                6|                        6|                           4|                     15|                     15|      75|              1104|\n",
      "|           749|                  W|2014|2014-06-25 00:00:00|  10|        3|   Scotland|      S92000003|                39|       East Ayrshire|           S12000008|      A77|           TA|    Major|             LA boundary|                   A76| 243900|  635900|55.591636456|-4.478605862|          4.60|2.86000000000000000|           0|                         1|           588|               18| 104|               24|                7|                        6|                           5|                     17|                     16|      75|               786|\n",
      "|           749|                  W|2014|2014-06-25 00:00:00|  11|        3|   Scotland|      S92000003|                39|       East Ayrshire|           S12000008|      A77|           TA|    Major|             LA boundary|                   A76| 243900|  635900|55.591636456|-4.478605862|          4.60|2.86000000000000000|           0|                         3|           578|               11| 105|               25|                6|                        1|                          10|                     18|                     21|      81|               778|\n",
      "|           749|                  W|2014|2014-06-25 00:00:00|  12|        3|   Scotland|      S92000003|                39|       East Ayrshire|           S12000008|      A77|           TA|    Major|             LA boundary|                   A76| 243900|  635900|55.591636456|-4.478605862|          4.60|2.86000000000000000|           0|                         0|           623|                7|  79|               26|                4|                        1|                           3|                     11|                     14|      59|               768|\n",
      "|           749|                  E|2014|2014-06-25 00:00:00|  13|        3|   Scotland|      S92000003|                39|       East Ayrshire|           S12000008|      A77|           TA|    Major|             LA boundary|                   A76| 243900|  635900|55.591636456|-4.478605862|          4.60|2.86000000000000000|           0|                         1|           620|                6|  82|               28|                3|                       11|                           7|                     19|                     11|      79|               788|\n",
      "|           749|                  E|2014|2014-06-25 00:00:00|  14|        3|   Scotland|      S92000003|                39|       East Ayrshire|           S12000008|      A77|           TA|    Major|             LA boundary|                   A76| 243900|  635900|55.591636456|-4.478605862|          4.60|2.86000000000000000|           0|                         2|           655|                9| 111|               27|                9|                        6|                           3|                      6|                     13|      64|               841|\n",
      "+--------------+-------------------+----+-------------------+----+---------+-----------+---------------+------------------+--------------------+--------------------+---------+-------------+---------+------------------------+----------------------+-------+--------+------------+------------+--------------+-------------------+------------+--------------------------+--------------+-----------------+----+-----------------+-----------------+-------------------------+----------------------------+-----------------------+-----------------------+--------+------------------+\n",
      "only showing top 20 rows\n",
      "\n"
     ]
    }
   ],
   "source": [
    "df.show()"
   ]
  },
  {
   "cell_type": "markdown",
   "metadata": {},
   "source": [
    "### As we don't need to distinguish between vehicle types, we will delete all numeric columns but \"all_motor_vehicles\" and \"pedal_cycles\".\n",
    "### We will also delete every unnecessary column for this challenge."
   ]
  },
  {
   "cell_type": "code",
   "execution_count": 67,
   "metadata": {},
   "outputs": [],
   "source": [
    "df = df.select([\"year\", \"count_date\", \"hour\", \"region_name\", \"pedal_cycles\", \"all_motor_vehicles\"])"
   ]
  },
  {
   "cell_type": "markdown",
   "metadata": {},
   "source": [
    "### As the entire data contains a finer granularity level, we have to summarize our data to avoid having multiple rows per day-hour-region"
   ]
  },
  {
   "cell_type": "code",
   "execution_count": 68,
   "metadata": {},
   "outputs": [],
   "source": [
    "df = df.withColumn(\"pedal_cycles\", col(\"pedal_cycles\").cast('integer') ).\\\n",
    "        withColumn(\"all_motor_vehicles\", col(\"all_motor_vehicles\").cast('integer')).\\\n",
    "        withColumn(\"region_name\", when(col(\"region_name\") == 'Scotland', lit(\"SCOTLAND\")).otherwise(lit(\"ENGLAND AND WALES\")))\n",
    "        ### I checked myself the correct region according to the \"Region_ons_code\". We could automatize this process.\n",
    "        ### However, to simplify the exercise, we will keep it like that.\n"
   ]
  },
  {
   "cell_type": "code",
   "execution_count": 69,
   "metadata": {},
   "outputs": [],
   "source": [
    "df = df.groupby(\"year\", \"count_date\", \"hour\", \"region_name\").agg(\n",
    "    sum(\"pedal_cycles\").alias(\"pedal_cycles\"),\n",
    "    sum(\"all_motor_vehicles\").alias(\"all_motor_vehicles\")\n",
    ")"
   ]
  },
  {
   "cell_type": "markdown",
   "metadata": {},
   "source": [
    "## Let's make every transformation needed for this challenge"
   ]
  },
  {
   "cell_type": "code",
   "execution_count": 70,
   "metadata": {},
   "outputs": [],
   "source": [
    "df = df.withColumn(\"date_id\", regexp_replace((split(col(\"count_date\"), ' ').getItem(0)), '-', '' ).cast('int')).\\\n",
    "        withColumn(\"count_date\", to_date(split(col(\"count_date\"), ' ').getItem(0), format='yyyy-MM-dd')).\\\n",
    "        withColumnRenamed(\"count_date\", \"date\").\\\n",
    "        withColumn(\"hour\", col(\"hour\").cast('integer') ).\\\n",
    "        withColumn(\"time_of_day\", \n",
    "                                  ## Let's remember that, for example, if you have hour: 4, then it refers\n",
    "                                  ## to the complete hour between 4 and 5.\n",
    "                                  when( (col(\"hour\") >= 4) & (col(\"hour\") <= 5) , lit(\"EARLY MORNING\")).\\\n",
    "                                  when( (col(\"hour\") > 5) & (col(\"hour\") < 11) , lit(\"MORNING\")).\\\n",
    "                                  when( (col(\"hour\") >= 11) & (col(\"hour\") <= 12) , lit(\"MIDDAY/NOON\")).\\\n",
    "                                  when( (col(\"hour\") > 12) & (col(\"hour\") <= 17) , lit(\"AFTERNOON\")).\\\n",
    "                                  when( (col(\"hour\") > 17) & (col(\"hour\") <= 21) , lit(\"EVENING\")).\\\n",
    "                                  otherwise(lit(\"NIGHTTIME\"))\n",
    "                   ).\\\n",
    "        withColumn(\"month\", lpad( month(col(\"date\")).cast('string'), 2, '0') ).\\\n",
    "        withColumn(\"weekNumber\", lpad( weekofyear(col(\"date\")).cast('string'), 2, '0') )\n",
    "\n",
    "df = df.persist() ##We are persisting the dataframe, so we can make multiple control operations before continuing the task."
   ]
  },
  {
   "cell_type": "markdown",
   "metadata": {},
   "source": [
    "#### Let's check our results, working over the persisted df for performance reasons"
   ]
  },
  {
   "cell_type": "code",
   "execution_count": 71,
   "metadata": {},
   "outputs": [
    {
     "name": "stdout",
     "output_type": "stream",
     "text": [
      "+----+----------+----+-----------------+------------+------------------+--------+-----------+-----+----------+\n",
      "|year|      date|hour|      region_name|pedal_cycles|all_motor_vehicles| date_id|time_of_day|month|weekNumber|\n",
      "+----+----------+----+-----------------+------------+------------------+--------+-----------+-----+----------+\n",
      "|2014|2014-10-15|   8|ENGLAND AND WALES|         330|             73592|20141015|    MORNING|   10|        42|\n",
      "|2014|2014-05-14|  18|ENGLAND AND WALES|         679|            112290|20140514|    EVENING|   05|        20|\n",
      "|2014|2014-06-17|  11|ENGLAND AND WALES|         118|             44454|20140617|MIDDAY/NOON|   06|        25|\n",
      "|2016|2016-06-10|  17|ENGLAND AND WALES|         611|             65986|20160610|  AFTERNOON|   06|        23|\n",
      "|2014|2014-09-26|  17|ENGLAND AND WALES|         483|             64621|20140926|  AFTERNOON|   09|        39|\n",
      "|2014|2014-09-24|  10|         SCOTLAND|           0|               458|20140924|    MORNING|   09|        39|\n",
      "|2014|2014-06-16|  17|         SCOTLAND|           5|              2669|20140616|  AFTERNOON|   06|        25|\n",
      "|2014|2014-05-20|   8|         SCOTLAND|           1|              1367|20140520|    MORNING|   05|        21|\n",
      "|2014|2014-10-03|   7|         SCOTLAND|          16|              2035|20141003|    MORNING|   10|        40|\n",
      "|2015|2015-06-29|  12|ENGLAND AND WALES|         313|            111983|20150629|MIDDAY/NOON|   06|        27|\n",
      "|2014|2014-06-18|  16|         SCOTLAND|           1|               727|20140618|  AFTERNOON|   06|        25|\n",
      "|2015|2015-06-18|  14|ENGLAND AND WALES|         294|             95015|20150618|  AFTERNOON|   06|        25|\n",
      "|2015|2015-06-17|  15|ENGLAND AND WALES|         598|             88990|20150617|  AFTERNOON|   06|        25|\n",
      "|2015|2015-09-11|  15|ENGLAND AND WALES|         647|            111376|20150911|  AFTERNOON|   09|        37|\n",
      "|2015|2015-06-22|  14|ENGLAND AND WALES|         175|             80335|20150622|  AFTERNOON|   06|        26|\n",
      "|2015|2015-09-10|   8|         SCOTLAND|           3|               406|20150910|    MORNING|   09|        37|\n",
      "|2016|2016-06-06|  18|ENGLAND AND WALES|         919|             66360|20160606|    EVENING|   06|        23|\n",
      "|2017|2017-05-03|   9|ENGLAND AND WALES|         296|             46772|20170503|    MORNING|   05|        18|\n",
      "|2015|2015-06-26|  13|         SCOTLAND|           0|               613|20150626|  AFTERNOON|   06|        26|\n",
      "|2015|2015-06-01|  15|         SCOTLAND|           2|               280|20150601|  AFTERNOON|   06|        23|\n",
      "+----+----------+----+-----------------+------------+------------------+--------+-----------+-----+----------+\n",
      "only showing top 20 rows\n",
      "\n"
     ]
    }
   ],
   "source": [
    "df.show()"
   ]
  },
  {
   "cell_type": "markdown",
   "metadata": {},
   "source": [
    "#### Ensuring that we have only one row per day/hour/region"
   ]
  },
  {
   "cell_type": "code",
   "execution_count": 72,
   "metadata": {},
   "outputs": [
    {
     "name": "stdout",
     "output_type": "stream",
     "text": [
      "+----+----+----+-----------+-----+\n",
      "|year|date|hour|region_name|count|\n",
      "+----+----+----+-----------+-----+\n",
      "+----+----+----+-----------+-----+\n",
      "\n"
     ]
    }
   ],
   "source": [
    "df.groupby(\"year\", \"date\", \"hour\", \"region_name\").agg(count(lit(1)).alias('count')).where(col('count') != 1).show()"
   ]
  },
  {
   "cell_type": "code",
   "execution_count": 73,
   "metadata": {},
   "outputs": [
    {
     "name": "stdout",
     "output_type": "stream",
     "text": [
      "[('year', 'string'), ('date', 'date'), ('hour', 'int'), ('region_name', 'string'), ('pedal_cycles', 'bigint'), ('all_motor_vehicles', 'bigint'), ('date_id', 'int'), ('time_of_day', 'string'), ('month', 'string'), ('weekNumber', 'string')]\n"
     ]
    }
   ],
   "source": [
    "print(df.dtypes)"
   ]
  },
  {
   "cell_type": "code",
   "execution_count": 74,
   "metadata": {},
   "outputs": [
    {
     "name": "stdout",
     "output_type": "stream",
     "text": [
      "Total Rows before joins 55040\n"
     ]
    }
   ],
   "source": [
    "print(\"Total Rows before joins\", df.count())"
   ]
  },
  {
   "cell_type": "markdown",
   "metadata": {},
   "source": [
    "### We will run our pandas notebook that gets data from https://date.nager.at/Api to ensure that we will have the last uk holidays information available (for years 2000-2022)"
   ]
  },
  {
   "cell_type": "code",
   "execution_count": 75,
   "metadata": {},
   "outputs": [
    {
     "name": "stdout",
     "output_type": "stream",
     "text": [
      "Great!\n"
     ]
    }
   ],
   "source": [
    "%run \"../../Pandas/UK_Traffic_Data/uk_holidays_transformations.ipynb\""
   ]
  },
  {
   "cell_type": "code",
   "execution_count": 76,
   "metadata": {},
   "outputs": [],
   "source": [
    "uk_holidays = spark.read.parquet('../../01_aux_files/source/UK_Traffic_Data/uk_holiday/uk_holidays.parquet').\\\n",
    "              drop('__index_level_0__')"
   ]
  },
  {
   "cell_type": "code",
   "execution_count": 77,
   "metadata": {},
   "outputs": [
    {
     "name": "stdout",
     "output_type": "stream",
     "text": [
      "+------------+-----------------+--------------------+---------------+\n",
      "|holiday_date|   holiday_region|        holiday_name|holiday_date_id|\n",
      "+------------+-----------------+--------------------+---------------+\n",
      "|  2000-01-03|ENGLAND AND WALES|      NEW YEAR'S DAY|       20000103|\n",
      "|  2000-01-03|         SCOTLAND|      NEW YEAR'S DAY|       20000103|\n",
      "|  2000-01-04|         SCOTLAND|      NEW YEAR'S DAY|       20000104|\n",
      "|  2000-04-21|           GLOBAL|         GOOD FRIDAY|       20000421|\n",
      "|  2000-04-24|ENGLAND AND WALES|       EASTER MONDAY|       20000424|\n",
      "|  2000-05-01|           GLOBAL|EARLY MAY BANK HO...|       20000501|\n",
      "|  2000-05-29|           GLOBAL| SPRING BANK HOLIDAY|       20000529|\n",
      "|  2000-08-07|         SCOTLAND| SUMMER BANK HOLIDAY|       20000807|\n",
      "|  2000-08-28|ENGLAND AND WALES| SUMMER BANK HOLIDAY|       20000828|\n",
      "|  2000-11-30|         SCOTLAND|  SAINT ANDREW'S DAY|       20001130|\n",
      "|  2000-12-25|           GLOBAL|       CHRISTMAS DAY|       20001225|\n",
      "|  2000-12-26|           GLOBAL|   ST. STEPHEN'S DAY|       20001226|\n",
      "|  2001-01-01|           GLOBAL|      NEW YEAR'S DAY|       20010101|\n",
      "|  2001-01-02|         SCOTLAND|      NEW YEAR'S DAY|       20010102|\n",
      "|  2001-04-13|           GLOBAL|         GOOD FRIDAY|       20010413|\n",
      "|  2001-04-16|ENGLAND AND WALES|       EASTER MONDAY|       20010416|\n",
      "|  2001-05-07|           GLOBAL|EARLY MAY BANK HO...|       20010507|\n",
      "|  2001-05-28|           GLOBAL| SPRING BANK HOLIDAY|       20010528|\n",
      "|  2001-08-06|         SCOTLAND| SUMMER BANK HOLIDAY|       20010806|\n",
      "|  2001-08-27|ENGLAND AND WALES| SUMMER BANK HOLIDAY|       20010827|\n",
      "+------------+-----------------+--------------------+---------------+\n",
      "only showing top 20 rows\n",
      "\n"
     ]
    }
   ],
   "source": [
    "uk_holidays.show()"
   ]
  },
  {
   "cell_type": "code",
   "execution_count": 78,
   "metadata": {},
   "outputs": [
    {
     "data": {
      "text/plain": [
       "[('holiday_date', 'date'),\n",
       " ('holiday_region', 'string'),\n",
       " ('holiday_name', 'string'),\n",
       " ('holiday_date_id', 'int')]"
      ]
     },
     "execution_count": 78,
     "metadata": {},
     "output_type": "execute_result"
    }
   ],
   "source": [
    "uk_holidays.dtypes"
   ]
  },
  {
   "cell_type": "markdown",
   "metadata": {},
   "source": [
    "### Let's join our data"
   ]
  },
  {
   "cell_type": "code",
   "execution_count": 79,
   "metadata": {},
   "outputs": [
    {
     "name": "stdout",
     "output_type": "stream",
     "text": [
      "Total Rows after joins 55040\n"
     ]
    }
   ],
   "source": [
    "df = df.join(uk_holidays, on= ((uk_holidays.holiday_date_id == df.date_id) & (uk_holidays.holiday_region == df.region_name))\n",
    "                               |\n",
    "                               ((uk_holidays.holiday_date_id == df.date_id) & (uk_holidays.holiday_region == 'GLOBAL')),\n",
    "             how='left'\n",
    "            ).drop('holiday_region', 'holiday_date', 'holiday_date_id').\\\n",
    "            persist() ##To avoid re-doing every transformation when grouping our results\n",
    "print(\"Total Rows after joins\", df.count())"
   ]
  },
  {
   "cell_type": "code",
   "execution_count": 80,
   "metadata": {},
   "outputs": [
    {
     "name": "stdout",
     "output_type": "stream",
     "text": [
      "Holidays found in our data: 2\n",
      "+----+----------+----+-----------------+------------+------------------+--------+-----------+-----+----------+-------------------+\n",
      "|year|      date|hour|      region_name|pedal_cycles|all_motor_vehicles| date_id|time_of_day|month|weekNumber|       holiday_name|\n",
      "+----+----------+----+-----------------+------------+------------------+--------+-----------+-----+----------+-------------------+\n",
      "|2002|2002-05-27|   9|         SCOTLAND|           4|               894|20020527|    MORNING|   05|        22|SPRING BANK HOLIDAY|\n",
      "|2002|2002-05-27|  18|         SCOTLAND|           9|              1055|20020527|    EVENING|   05|        22|SPRING BANK HOLIDAY|\n",
      "|2002|2002-05-27|  15|         SCOTLAND|           3|              1108|20020527|  AFTERNOON|   05|        22|SPRING BANK HOLIDAY|\n",
      "|2012|2012-05-28|  13|ENGLAND AND WALES|         250|            110442|20120528|  AFTERNOON|   05|        22|SPRING BANK HOLIDAY|\n",
      "|2002|2002-05-27|  10|         SCOTLAND|           1|               909|20020527|    MORNING|   05|        22|SPRING BANK HOLIDAY|\n",
      "|2002|2002-05-27|   7|         SCOTLAND|           7|               823|20020527|    MORNING|   05|        22|SPRING BANK HOLIDAY|\n",
      "|2002|2002-05-27|  11|ENGLAND AND WALES|         285|            106117|20020527|MIDDAY/NOON|   05|        22|SPRING BANK HOLIDAY|\n",
      "|2002|2002-05-27|  18|ENGLAND AND WALES|         891|            116910|20020527|    EVENING|   05|        22|SPRING BANK HOLIDAY|\n",
      "|2002|2002-05-27|   7|ENGLAND AND WALES|         760|            130945|20020527|    MORNING|   05|        22|SPRING BANK HOLIDAY|\n",
      "|2012|2012-05-28|  14|ENGLAND AND WALES|         285|            111898|20120528|  AFTERNOON|   05|        22|SPRING BANK HOLIDAY|\n",
      "|2012|2012-05-28|   9|         SCOTLAND|          10|              5693|20120528|    MORNING|   05|        22|SPRING BANK HOLIDAY|\n",
      "|2012|2012-05-28|  15|ENGLAND AND WALES|         398|            120438|20120528|  AFTERNOON|   05|        22|SPRING BANK HOLIDAY|\n",
      "|2012|2012-05-28|  13|         SCOTLAND|          16|              4788|20120528|  AFTERNOON|   05|        22|SPRING BANK HOLIDAY|\n",
      "|2012|2012-05-28|  17|         SCOTLAND|          45|              6148|20120528|  AFTERNOON|   05|        22|SPRING BANK HOLIDAY|\n",
      "|2012|2012-05-28|  18|ENGLAND AND WALES|         588|            119726|20120528|    EVENING|   05|        22|SPRING BANK HOLIDAY|\n",
      "|2002|2002-05-27|  13|ENGLAND AND WALES|         343|            111421|20020527|  AFTERNOON|   05|        22|SPRING BANK HOLIDAY|\n",
      "|2012|2012-05-28|  10|ENGLAND AND WALES|         259|            110075|20120528|    MORNING|   05|        22|SPRING BANK HOLIDAY|\n",
      "|2002|2002-05-27|  14|         SCOTLAND|           5|              1039|20020527|  AFTERNOON|   05|        22|SPRING BANK HOLIDAY|\n",
      "|2012|2012-05-28|  11|         SCOTLAND|          21|              4815|20120528|MIDDAY/NOON|   05|        22|SPRING BANK HOLIDAY|\n",
      "|2002|2002-05-27|   9|ENGLAND AND WALES|         545|            115585|20020527|    MORNING|   05|        22|SPRING BANK HOLIDAY|\n",
      "+----+----------+----+-----------------+------------+------------------+--------+-----------+-----+----------+-------------------+\n",
      "only showing top 20 rows\n",
      "\n"
     ]
    }
   ],
   "source": [
    "print(\"Holidays found in our data:\", df.select('date').distinct().where( col('holiday_name').isNotNull() ).count())\n",
    "df.where( col('holiday_name').isNotNull() ).show()"
   ]
  },
  {
   "cell_type": "markdown",
   "metadata": {},
   "source": [
    "# DATA ENGINEERING\n",
    "# Feature engineering (we will save the results into the 01_aux_files/results/UK_Traffic_Data folder)"
   ]
  },
  {
   "cell_type": "markdown",
   "metadata": {},
   "source": [
    "### * Aggregate the data bby date into weeks, months & years"
   ]
  },
  {
   "cell_type": "code",
   "execution_count": 81,
   "metadata": {},
   "outputs": [
    {
     "name": "stdout",
     "output_type": "stream",
     "text": [
      "+----+-----+----------+------------+------------------+\n",
      "|year|month|weekNumber|pedal_cycles|all_motor_vehicles|\n",
      "+----+-----+----------+------------+------------------+\n",
      "|2000|   03|        11|        6007|           1395788|\n",
      "|2000|   03|        12|       21049|           6800397|\n",
      "|2000|   03|        13|       19099|           6220602|\n",
      "|2000|   04|        14|       19246|           7328727|\n",
      "|2000|   04|        15|       19774|           6803920|\n",
      "|2000|   05|        18|       22835|           5178717|\n",
      "|2000|   05|        19|       28249|           7722164|\n",
      "|2000|   05|        20|       24237|           7860734|\n",
      "|2000|   05|        21|       22737|           6610172|\n",
      "|2000|   06|        23|       24102|           6922945|\n",
      "|2000|   06|        24|       24272|           7092161|\n",
      "|2000|   06|        25|       25792|           7534628|\n",
      "|2000|   06|        26|       33316|           6420959|\n",
      "|2000|   07|        27|       30223|           6767038|\n",
      "|2000|   07|        28|       23504|           7264020|\n",
      "|2000|   09|        36|         425|            570870|\n",
      "|2000|   09|        38|         607|            158370|\n",
      "|2000|   09|        39|       25641|           7422634|\n",
      "|2000|   10|        40|       34813|          10189348|\n",
      "|2000|   10|        41|       30276|           8649837|\n",
      "+----+-----+----------+------------+------------------+\n",
      "only showing top 20 rows\n",
      "\n"
     ]
    }
   ],
   "source": [
    "df.groupby(\"year\", \"month\", \"weekNumber\").agg(\n",
    "    sum(\"pedal_cycles\").alias(\"pedal_cycles\"),\n",
    "    sum(\"all_motor_vehicles\").alias(\"all_motor_vehicles\")\n",
    ").orderBy(col(\"year\").asc(), col(\"month\").asc(), col(\"weekNumber\").asc()).show()"
   ]
  },
  {
   "cell_type": "code",
   "execution_count": 82,
   "metadata": {},
   "outputs": [],
   "source": [
    "df.groupby(\"year\", \"month\", \"weekNumber\").agg(\n",
    "    sum(\"pedal_cycles\").alias(\"pedal_cycles\"),\n",
    "    sum(\"all_motor_vehicles\").alias(\"all_motor_vehicles\")\n",
    ").orderBy(col(\"year\").asc(), col(\"month\").asc(), col(\"weekNumber\").asc()).\\\n",
    "    coalesce(1).\\\n",
    "    write.option(\"header\", True).option(\"sep\", ';').csv(r'..\\..\\01_aux_files\\results\\UK_Traffic_Data\\data_engi_1', mode='overwrite')\n",
    "    ##coalesce(1) is for avoid creating multiple files"
   ]
  },
  {
   "cell_type": "markdown",
   "metadata": {},
   "source": [
    "### * Group the data by different holidays"
   ]
  },
  {
   "cell_type": "code",
   "execution_count": 83,
   "metadata": {},
   "outputs": [
    {
     "name": "stdout",
     "output_type": "stream",
     "text": [
      "+----+-------------------+------------+------------------+\n",
      "|year|       holiday_name|pedal_cycles|all_motor_vehicles|\n",
      "+----+-------------------+------------+------------------+\n",
      "|2002|SPRING BANK HOLIDAY|        6766|           1476022|\n",
      "|2012|SPRING BANK HOLIDAY|        5674|           1567956|\n",
      "+----+-------------------+------------+------------------+\n",
      "\n"
     ]
    }
   ],
   "source": [
    "df.filter( col('holiday_name').isNotNull() ).\\\n",
    "    groupby(\"year\", \"holiday_name\").\\\n",
    "    agg(\n",
    "    sum(\"pedal_cycles\").alias(\"pedal_cycles\"),\n",
    "    sum(\"all_motor_vehicles\").alias(\"all_motor_vehicles\")\n",
    ").show()"
   ]
  },
  {
   "cell_type": "markdown",
   "metadata": {},
   "source": [
    "### * Use the hours to create a time-of-day feature"
   ]
  },
  {
   "cell_type": "code",
   "execution_count": 84,
   "metadata": {},
   "outputs": [
    {
     "name": "stdout",
     "output_type": "stream",
     "text": [
      "+----+-------------+\n",
      "|hour|  time_of_day|\n",
      "+----+-------------+\n",
      "|   0|    NIGHTTIME|\n",
      "|   1|    NIGHTTIME|\n",
      "|   3|    NIGHTTIME|\n",
      "|   4|EARLY MORNING|\n",
      "|   5|EARLY MORNING|\n",
      "|   7|      MORNING|\n",
      "|   8|      MORNING|\n",
      "|   9|      MORNING|\n",
      "|  10|      MORNING|\n",
      "|  11|  MIDDAY/NOON|\n",
      "|  12|  MIDDAY/NOON|\n",
      "|  13|    AFTERNOON|\n",
      "|  14|    AFTERNOON|\n",
      "|  15|    AFTERNOON|\n",
      "|  16|    AFTERNOON|\n",
      "|  17|    AFTERNOON|\n",
      "|  18|      EVENING|\n",
      "+----+-------------+\n",
      "\n"
     ]
    }
   ],
   "source": [
    "df.select('hour', 'time_of_day').\\\n",
    "    distinct().\\\n",
    "    orderBy(col('hour').asc()).\\\n",
    "    show()"
   ]
  },
  {
   "cell_type": "markdown",
   "metadata": {},
   "source": [
    "# CHALLENGE"
   ]
  },
  {
   "cell_type": "markdown",
   "metadata": {},
   "source": [
    "# Enrich the days with the historical average fuel prices on that day.\n",
    "# Did the prices influence travel behavior ?"
   ]
  },
  {
   "cell_type": "markdown",
   "metadata": {},
   "source": [
    "### We are using weekly prices from https://www.racfoundation.org/data/uk-daily-fuel-table-with-breakdown"
   ]
  },
  {
   "cell_type": "code",
   "execution_count": 85,
   "metadata": {},
   "outputs": [],
   "source": [
    "fuel_prices = spark.read.option(\"header\", True).option(\"sep\", \";\").csv(r'..\\..\\01_aux_files\\source\\UK_Traffic_Data\\Weekly_Fuel_Prices.csv')"
   ]
  },
  {
   "cell_type": "code",
   "execution_count": 86,
   "metadata": {},
   "outputs": [
    {
     "name": "stdout",
     "output_type": "stream",
     "text": [
      "+----------+----------------+-------------------------+----------------+-------------------------+\n",
      "|      date|ulsp_price_litre|ulsp_diff_prev_week_litre|ulsd_price_litre|ulsd_diff_prev_week_litre|\n",
      "+----------+----------------+-------------------------+----------------+-------------------------+\n",
      "|  9/6/2003|           74,59|                     null|           76,77|                     null|\n",
      "| 16/6/2003|           74,47|                     -0,1|           76,69|                     -0,1|\n",
      "| 23/6/2003|           74,42|                        0|           76,62|                     -0,1|\n",
      "| 30/6/2003|           74,35|                     -0,1|           76,51|                     -0,1|\n",
      "|  7/7/2003|           74,28|                     -0,1|           76,46|                        0|\n",
      "| 14/7/2003|           74,21|                     -0,1|           76,41|                        0|\n",
      "| 21/7/2003|           75,07|                      0,9|            76,9|                      0,5|\n",
      "| 28/7/2003|            75,1|                        0|           76,86|                        0|\n",
      "|  4/8/2003|           75,12|                        0|           76,81|                        0|\n",
      "| 11/8/2003|           75,44|                      0,3|           77,08|                      0,3|\n",
      "| 18/8/2003|           75,81|                      0,4|           77,44|                      0,4|\n",
      "| 26/8/2003|           76,05|                      0,2|           77,68|                      0,2|\n",
      "|  1/9/2003|           76,13|                      0,1|           77,59|                     -0,1|\n",
      "|  8/9/2003|           76,23|                      0,1|           77,67|                      0,1|\n",
      "| 15/9/2003|            76,2|                        0|           77,63|                        0|\n",
      "| 22/9/2003|           76,15|                        0|           77,55|                     -0,1|\n",
      "| 29/9/2003|           76,08|                     -0,1|           77,53|                        0|\n",
      "| 6/10/2003|           76,43|                      0,3|           77,66|                      0,1|\n",
      "|13/10/2003|            75,9|                     -0,5|           77,43|                     -0,2|\n",
      "|20/10/2003|           76,05|                      0,2|           77,54|                      0,1|\n",
      "+----------+----------------+-------------------------+----------------+-------------------------+\n",
      "only showing top 20 rows\n",
      "\n"
     ]
    }
   ],
   "source": [
    "fuel_prices.show()"
   ]
  },
  {
   "cell_type": "markdown",
   "metadata": {},
   "source": [
    "* ULSP = Ultra low sulphur unleaded petrol\n",
    "* ULSD = Ultra low sulphur diesel"
   ]
  },
  {
   "cell_type": "markdown",
   "metadata": {},
   "source": [
    "### As difference between weeks is not accurate enough (because they are limited only to one decimal place), we will calculate our own weekly average price and differences between weeks"
   ]
  },
  {
   "cell_type": "markdown",
   "metadata": {},
   "source": [
    "### Let's make necessary transformations"
   ]
  },
  {
   "cell_type": "markdown",
   "metadata": {},
   "source": [
    "### Our data is not necessarily continuous, so, we will create a row number ordering by year week to calculate the difference between a week and the previous *registered* week in our data"
   ]
  },
  {
   "cell_type": "code",
   "execution_count": 87,
   "metadata": {},
   "outputs": [],
   "source": [
    "windowSpec = Window.partitionBy().orderBy(col('fuel_year').asc(), col('fuel_weekNumber').asc())"
   ]
  },
  {
   "cell_type": "code",
   "execution_count": 88,
   "metadata": {},
   "outputs": [],
   "source": [
    "fuel_prices = fuel_prices.withColumnRenamed(\"date\", \"fuel_date\").\\\n",
    "                          withColumn(\"fuel_date\", to_date(col(\"fuel_date\"), format=\"dd/MM/yyyy\")).\\\n",
    "                          withColumn(\"fuel_weekNumber\", lpad( weekofyear( 'fuel_date' ).cast('string'), 2, '0' )).\\\n",
    "                          withColumn(\"fuel_year\", year( 'fuel_date' )).\\\n",
    "                          withColumn(\"ulsp_price_litre\", regexp_replace(col(\"ulsp_price_litre\"), ',', '.').cast('float')).\\\n",
    "                          withColumn(\"ulsd_price_litre\", regexp_replace(col(\"ulsd_price_litre\"), ',', '.').cast('float')).\\\n",
    "                          drop('fuel_date').\\\n",
    "                          groupBy('fuel_year', 'fuel_weekNumber').agg(\n",
    "                                  avg('ulsp_price_litre').alias('ulsp_price_litre'),\n",
    "                                  avg('ulsd_price_litre').alias('ulsd_price_litre')\n",
    "                          ).\\\n",
    "                          withColumn(\"RN\", row_number().over(windowSpec)).\\\n",
    "                          persist()"
   ]
  },
  {
   "cell_type": "code",
   "execution_count": 89,
   "metadata": {},
   "outputs": [
    {
     "name": "stdout",
     "output_type": "stream",
     "text": [
      "fuel_prices_count: 1048\n"
     ]
    },
    {
     "data": {
      "text/plain": [
       "[('fuel_year', 'int'),\n",
       " ('fuel_weekNumber', 'string'),\n",
       " ('ulsp_price_litre', 'double'),\n",
       " ('ulsd_price_litre', 'double'),\n",
       " ('RN', 'int')]"
      ]
     },
     "execution_count": 89,
     "metadata": {},
     "output_type": "execute_result"
    }
   ],
   "source": [
    "print(\"fuel_prices_count:\", fuel_prices.count())\n",
    "fuel_prices.dtypes"
   ]
  },
  {
   "cell_type": "code",
   "execution_count": 90,
   "metadata": {},
   "outputs": [
    {
     "name": "stdout",
     "output_type": "stream",
     "text": [
      "+---------------------+---------------------+\n",
      "|avg(ulsp_price_litre)|avg(ulsd_price_litre)|\n",
      "+---------------------+---------------------+\n",
      "|   115.75203235276783|   120.93723755756407|\n",
      "+---------------------+---------------------+\n",
      "\n"
     ]
    }
   ],
   "source": [
    "fuel_prices.select(avg('ulsp_price_litre'),avg('ulsd_price_litre')).show() "
   ]
  },
  {
   "cell_type": "code",
   "execution_count": 91,
   "metadata": {},
   "outputs": [
    {
     "name": "stdout",
     "output_type": "stream",
     "text": [
      "+---------+---------------+-----------------+-----------------+---+\n",
      "|fuel_year|fuel_weekNumber| ulsp_price_litre| ulsd_price_litre| RN|\n",
      "+---------+---------------+-----------------+-----------------+---+\n",
      "|     2003|             01|75.94000244140625| 77.5999984741211|  1|\n",
      "|     2003|             24|74.58999633789062| 76.7699966430664|  2|\n",
      "|     2003|             25|74.47000122070312|76.69000244140625|  3|\n",
      "|     2003|             26|74.41999816894531|76.62000274658203|  4|\n",
      "|     2003|             27| 74.3499984741211|76.51000213623047|  5|\n",
      "|     2003|             28|74.27999877929688|76.45999908447266|  6|\n",
      "|     2003|             29|74.20999908447266|76.41000366210938|  7|\n",
      "|     2003|             30|75.06999969482422| 76.9000015258789|  8|\n",
      "|     2003|             31| 75.0999984741211|76.86000061035156|  9|\n",
      "|     2003|             32|75.12000274658203|76.80999755859375| 10|\n",
      "|     2003|             33|75.44000244140625|77.08000183105469| 11|\n",
      "|     2003|             34|75.80999755859375|77.44000244140625| 12|\n",
      "|     2003|             35|76.05000305175781|77.68000030517578| 13|\n",
      "|     2003|             36|76.12999725341797|77.58999633789062| 14|\n",
      "|     2003|             37| 76.2300033569336|77.66999816894531| 15|\n",
      "|     2003|             38|76.19999694824219|77.62999725341797| 16|\n",
      "|     2003|             39| 76.1500015258789|77.55000305175781| 17|\n",
      "|     2003|             40|76.08000183105469|77.52999877929688| 18|\n",
      "|     2003|             41|76.43000030517578|77.66000366210938| 19|\n",
      "|     2003|             42| 75.9000015258789|77.43000030517578| 20|\n",
      "+---------+---------------+-----------------+-----------------+---+\n",
      "only showing top 20 rows\n",
      "\n"
     ]
    }
   ],
   "source": [
    "fuel_prices.orderBy(col('RN').asc()).show()"
   ]
  },
  {
   "cell_type": "code",
   "execution_count": 92,
   "metadata": {},
   "outputs": [],
   "source": [
    "fuel_prices = fuel_prices.alias('new').join(fuel_prices.alias('last_week'),\n",
    "                                            on= col('new.RN') == col('last_week.RN') + 1,\n",
    "                                            how='left'\n",
    "                                            ).\\\n",
    "                                        select('new.*',\n",
    "                                               (col('new.ulsp_price_litre') - col('last_week.ulsp_price_litre')).alias('ulsp_last_week_diff'),\n",
    "                                               (col('new.ulsd_price_litre') - col('last_week.ulsd_price_litre')).alias('ulsd_last_week_diff')\n",
    "                                               ).persist()"
   ]
  },
  {
   "cell_type": "code",
   "execution_count": 93,
   "metadata": {},
   "outputs": [
    {
     "name": "stdout",
     "output_type": "stream",
     "text": [
      "+---------+---------------+-----------------+-----------------+---+--------------------+--------------------+\n",
      "|fuel_year|fuel_weekNumber| ulsp_price_litre| ulsd_price_litre| RN| ulsp_last_week_diff| ulsd_last_week_diff|\n",
      "+---------+---------------+-----------------+-----------------+---+--------------------+--------------------+\n",
      "|     2003|             01|75.94000244140625| 77.5999984741211|  1|                null|                null|\n",
      "|     2003|             24|74.58999633789062| 76.7699966430664|  2|  -1.350006103515625| -0.8300018310546875|\n",
      "|     2003|             25|74.47000122070312|76.69000244140625|  3|    -0.1199951171875|-0.07999420166015625|\n",
      "|     2003|             26|74.41999816894531|76.62000274658203|  4| -0.0500030517578125|-0.06999969482421875|\n",
      "|     2003|             27| 74.3499984741211|76.51000213623047|  5|-0.06999969482421875| -0.1100006103515625|\n",
      "|     2003|             28|74.27999877929688|76.45999908447266|  6|-0.06999969482421875| -0.0500030517578125|\n",
      "|     2003|             29|74.20999908447266|76.41000366210938|  7|-0.06999969482421875|-0.04999542236328125|\n",
      "|     2003|             30|75.06999969482422| 76.9000015258789|  8|  0.8600006103515625| 0.48999786376953125|\n",
      "|     2003|             31| 75.0999984741211|76.86000061035156|  9|   0.029998779296875|-0.04000091552734375|\n",
      "|     2003|             32|75.12000274658203|76.80999755859375| 10|  0.0200042724609375| -0.0500030517578125|\n",
      "|     2003|             33|75.44000244140625|77.08000183105469| 11| 0.31999969482421875|  0.2700042724609375|\n",
      "|     2003|             34|75.80999755859375|77.44000244140625| 12|     0.3699951171875|  0.3600006103515625|\n",
      "|     2003|             35|76.05000305175781|77.68000030517578| 13|  0.2400054931640625| 0.23999786376953125|\n",
      "|     2003|             36|76.12999725341797|77.58999633789062| 14| 0.07999420166015625|-0.09000396728515625|\n",
      "|     2003|             37| 76.2300033569336|77.66999816894531| 15|   0.100006103515625|  0.0800018310546875|\n",
      "|     2003|             38|76.19999694824219|77.62999725341797| 16|-0.03000640869140625|-0.04000091552734375|\n",
      "|     2003|             39| 76.1500015258789|77.55000305175781| 17|-0.04999542236328125|-0.07999420166015625|\n",
      "|     2003|             40|76.08000183105469|77.52999877929688| 18|-0.06999969482421875| -0.0200042724609375|\n",
      "|     2003|             41|76.43000030517578|77.66000366210938| 19| 0.34999847412109375|     0.1300048828125|\n",
      "|     2003|             42| 75.9000015258789|77.43000030517578| 20|  -0.529998779296875|-0.23000335693359375|\n",
      "+---------+---------------+-----------------+-----------------+---+--------------------+--------------------+\n",
      "only showing top 20 rows\n",
      "\n"
     ]
    }
   ],
   "source": [
    "fuel_prices.show()"
   ]
  },
  {
   "cell_type": "markdown",
   "metadata": {},
   "source": [
    "### We will put our traffic data at the same detail level. We are also considering that those prices were the same all across the United Kingdom "
   ]
  },
  {
   "cell_type": "markdown",
   "metadata": {},
   "source": [
    "### We have to do similar transformations"
   ]
  },
  {
   "cell_type": "code",
   "execution_count": 94,
   "metadata": {},
   "outputs": [],
   "source": [
    "windowSpec = Window.partitionBy().orderBy(col('year').asc(), col('weekNumber').asc())"
   ]
  },
  {
   "cell_type": "code",
   "execution_count": 95,
   "metadata": {},
   "outputs": [],
   "source": [
    "df = df.groupBy('year', 'weekNumber').agg(\n",
    "    sum('pedal_cycles').alias('pedal_cycles'),\n",
    "    sum('all_motor_vehicles').alias('all_motor_vehicles')\n",
    "    ).\\\n",
    "    withColumn(\"RN\", row_number().over(windowSpec)).\\\n",
    "    persist()"
   ]
  },
  {
   "cell_type": "code",
   "execution_count": 96,
   "metadata": {},
   "outputs": [
    {
     "name": "stdout",
     "output_type": "stream",
     "text": [
      "+----+----------+------------+------------------+---+\n",
      "|year|weekNumber|pedal_cycles|all_motor_vehicles| RN|\n",
      "+----+----------+------------+------------------+---+\n",
      "|2000|        11|        6007|           1395788|  1|\n",
      "|2000|        12|       21049|           6800397|  2|\n",
      "|2000|        13|       19099|           6220602|  3|\n",
      "|2000|        14|       19246|           7328727|  4|\n",
      "|2000|        15|       19774|           6803920|  5|\n",
      "|2000|        18|       22835|           5178717|  6|\n",
      "|2000|        19|       28249|           7722164|  7|\n",
      "|2000|        20|       24237|           7860734|  8|\n",
      "|2000|        21|       22737|           6610172|  9|\n",
      "|2000|        23|       24102|           6922945| 10|\n",
      "|2000|        24|       24272|           7092161| 11|\n",
      "|2000|        25|       25792|           7534628| 12|\n",
      "|2000|        26|       33316|           6420959| 13|\n",
      "|2000|        27|       30223|           6767038| 14|\n",
      "|2000|        28|       23504|           7264020| 15|\n",
      "|2000|        36|         425|            570870| 16|\n",
      "|2000|        38|         607|            158370| 17|\n",
      "|2000|        39|       25641|           7422634| 18|\n",
      "|2000|        40|       34813|          10189348| 19|\n",
      "|2000|        41|       30276|           8649837| 20|\n",
      "+----+----------+------------+------------------+---+\n",
      "only showing top 20 rows\n",
      "\n"
     ]
    }
   ],
   "source": [
    "df.orderBy('RN').show()"
   ]
  },
  {
   "cell_type": "code",
   "execution_count": 97,
   "metadata": {},
   "outputs": [],
   "source": [
    "df = df.alias('new').join(df.alias('last_week'),\n",
    "                                            on= col('new.RN') == col('last_week.RN') + 1,\n",
    "                                            how='left'\n",
    "                                            ).\\\n",
    "                                        select('new.*',\n",
    "                                               (col('new.pedal_cycles') - col('last_week.pedal_cycles')).alias('pedal_cycles_week_diff'),\n",
    "                                               (col('new.all_motor_vehicles') - col('last_week.all_motor_vehicles')).alias('all_motor_vehicles_week_diff')\n",
    "                                               ).drop('RN').\\\n",
    "                                               persist()"
   ]
  },
  {
   "cell_type": "code",
   "execution_count": 98,
   "metadata": {},
   "outputs": [
    {
     "name": "stdout",
     "output_type": "stream",
     "text": [
      "Rows before joining data: 572\n",
      "+----+----------+------------+------------------+----------------------+----------------------------+\n",
      "|year|weekNumber|pedal_cycles|all_motor_vehicles|pedal_cycles_week_diff|all_motor_vehicles_week_diff|\n",
      "+----+----------+------------+------------------+----------------------+----------------------------+\n",
      "|2000|        11|        6007|           1395788|                  null|                        null|\n",
      "|2000|        12|       21049|           6800397|                 15042|                     5404609|\n",
      "|2000|        13|       19099|           6220602|                 -1950|                     -579795|\n",
      "|2000|        14|       19246|           7328727|                   147|                     1108125|\n",
      "|2000|        15|       19774|           6803920|                   528|                     -524807|\n",
      "|2000|        18|       22835|           5178717|                  3061|                    -1625203|\n",
      "|2000|        19|       28249|           7722164|                  5414|                     2543447|\n",
      "|2000|        20|       24237|           7860734|                 -4012|                      138570|\n",
      "|2000|        21|       22737|           6610172|                 -1500|                    -1250562|\n",
      "|2000|        23|       24102|           6922945|                  1365|                      312773|\n",
      "|2000|        24|       24272|           7092161|                   170|                      169216|\n",
      "|2000|        25|       25792|           7534628|                  1520|                      442467|\n",
      "|2000|        26|       33316|           6420959|                  7524|                    -1113669|\n",
      "|2000|        27|       30223|           6767038|                 -3093|                      346079|\n",
      "|2000|        28|       23504|           7264020|                 -6719|                      496982|\n",
      "|2000|        36|         425|            570870|                -23079|                    -6693150|\n",
      "|2000|        38|         607|            158370|                   182|                     -412500|\n",
      "|2000|        39|       25641|           7422634|                 25034|                     7264264|\n",
      "|2000|        40|       34813|          10189348|                  9172|                     2766714|\n",
      "|2000|        41|       30276|           8649837|                 -4537|                    -1539511|\n",
      "+----+----------+------------+------------------+----------------------+----------------------------+\n",
      "only showing top 20 rows\n",
      "\n"
     ]
    }
   ],
   "source": [
    "print(\"Rows before joining data:\", df.count())\n",
    "df.show()"
   ]
  },
  {
   "cell_type": "markdown",
   "metadata": {},
   "source": [
    "## Joining fuel_prices with Traffic Data"
   ]
  },
  {
   "cell_type": "code",
   "execution_count": 99,
   "metadata": {},
   "outputs": [
    {
     "data": {
      "text/plain": [
       "DataFrame[fuel_year: int, fuel_weekNumber: string, ulsp_price_litre: double, ulsd_price_litre: double, RN: int, ulsp_last_week_diff: double, ulsd_last_week_diff: double]"
      ]
     },
     "execution_count": 99,
     "metadata": {},
     "output_type": "execute_result"
    }
   ],
   "source": [
    "df = df.join(fuel_prices, on= (df.weekNumber == fuel_prices.fuel_weekNumber) \n",
    "             &\n",
    "             (df.year == fuel_prices.fuel_year),\n",
    "             how='inner'\n",
    "             ).select(\n",
    "                 'year', 'weekNumber', 'pedal_cycles', 'pedal_cycles_week_diff', 'all_motor_vehicles', 'all_motor_vehicles_week_diff',\n",
    "                 'ulsp_price_litre', 'ulsp_last_week_diff', 'ulsd_price_litre', 'ulsd_last_week_diff'\n",
    "             ).\\\n",
    "            persist()\n",
    "\n",
    "fuel_prices.unpersist() ##We won't use it anymore"
   ]
  },
  {
   "cell_type": "code",
   "execution_count": 100,
   "metadata": {},
   "outputs": [
    {
     "name": "stdout",
     "output_type": "stream",
     "text": [
      "Rows after joining data: 491\n",
      "+----+----------+------------+----------------------+------------------+----------------------------+-----------------+--------------------+-----------------+--------------------+\n",
      "|year|weekNumber|pedal_cycles|pedal_cycles_week_diff|all_motor_vehicles|all_motor_vehicles_week_diff| ulsp_price_litre| ulsp_last_week_diff| ulsd_price_litre| ulsd_last_week_diff|\n",
      "+----+----------+------------+----------------------+------------------+----------------------------+-----------------+--------------------+-----------------+--------------------+\n",
      "|2003|        24|       35468|                 -2893|           7754763|                      290679|74.58999633789062|  -1.350006103515625| 76.7699966430664| -0.8300018310546875|\n",
      "|2003|        25|       41128|                  5660|           7414395|                     -340368|74.47000122070312|    -0.1199951171875|76.69000244140625|-0.07999420166015625|\n",
      "|2003|        26|       36867|                 -4261|           7136179|                     -278216|74.41999816894531| -0.0500030517578125|76.62000274658203|-0.06999969482421875|\n",
      "|2003|        27|       28215|                 -8652|           7070901|                      -65278| 74.3499984741211|-0.06999969482421875|76.51000213623047| -0.1100006103515625|\n",
      "|2003|        28|       37203|                  8988|           7317618|                      246717|74.27999877929688|-0.06999969482421875|76.45999908447266| -0.0500030517578125|\n",
      "|2003|        36|        1802|                -35401|            454707|                    -6862911|76.12999725341797| 0.07999420166015625|77.58999633789062|-0.09000396728515625|\n",
      "|2003|        37|         554|                 -1248|            353694|                     -101013| 76.2300033569336|   0.100006103515625|77.66999816894531|  0.0800018310546875|\n",
      "|2003|        38|       37108|                 36554|           6443828|                     6090134|76.19999694824219|-0.03000640869140625|77.62999725341797|-0.04000091552734375|\n",
      "|2003|        39|       29490|                 -7618|           7188611|                      744783| 76.1500015258789|-0.04999542236328125|77.55000305175781|-0.07999420166015625|\n",
      "|2003|        40|       32583|                  3093|           7601576|                      412965|76.08000183105469|-0.06999969482421875|77.52999877929688| -0.0200042724609375|\n",
      "|2003|        41|       36788|                  4205|           6935085|                     -666491|76.43000030517578| 0.34999847412109375|77.66000366210938|     0.1300048828125|\n",
      "|2003|        42|         376|                -36412|            242174|                    -6692911| 75.9000015258789|  -0.529998779296875|77.43000030517578|-0.23000335693359375|\n",
      "|2003|        43|         105|                  -271|             52065|                     -190109|76.05000305175781| 0.15000152587890625|77.54000091552734|  0.1100006103515625|\n",
      "|2004|        11|        4117|                  4012|           1162392|                     1110327| 76.7300033569336|   0.410003662109375|            78.25| 0.37999725341796875|\n",
      "|2004|        12|       18760|                 14643|           5643523|                     4481131|77.38999938964844|  0.6599960327148438|78.80000305175781|  0.5500030517578125|\n",
      "|2004|        13|       21766|                  3006|           6343029|                      699506|77.44000244140625|  0.0500030517578125|78.91999816894531|     0.1199951171875|\n",
      "|2004|        14|       23882|                  2116|           6434212|                       91183|77.58999633789062|   0.149993896484375|79.01000213623047| 0.09000396728515625|\n",
      "|2004|        16|           5|                -23877|               492|                    -6433720|77.87999725341797| 0.01999664306640625| 79.2699966430664|  0.0399932861328125|\n",
      "|2004|        17|       26039|                 26034|           5734732|                     5734240|78.04000091552734|   0.160003662109375|79.43000030517578|   0.160003662109375|\n",
      "|2004|        18|       26885|                   846|           7392671|                     1657939| 78.4000015258789|  0.3600006103515625|            79.75| 0.31999969482421875|\n",
      "+----+----------+------------+----------------------+------------------+----------------------------+-----------------+--------------------+-----------------+--------------------+\n",
      "only showing top 20 rows\n",
      "\n"
     ]
    }
   ],
   "source": [
    "print(\"Rows after joining data:\", df.count())\n",
    "df.orderBy(col('year').asc(), col('weekNumber').asc()).show()"
   ]
  },
  {
   "cell_type": "code",
   "execution_count": 101,
   "metadata": {},
   "outputs": [
    {
     "name": "stdout",
     "output_type": "stream",
     "text": [
      "+---------------------+---------------------+\n",
      "|avg(ulsp_price_litre)|avg(ulsd_price_litre)|\n",
      "+---------------------+---------------------+\n",
      "|   115.67545797188752|   120.38708757140243|\n",
      "+---------------------+---------------------+\n",
      "\n"
     ]
    }
   ],
   "source": [
    "df.select(avg('ulsp_price_litre'),avg('ulsd_price_litre')).show() "
   ]
  },
  {
   "cell_type": "markdown",
   "metadata": {},
   "source": [
    "### Let's check pedal_cycles and motor vehicle behavior against an ulsp augment"
   ]
  },
  {
   "cell_type": "code",
   "execution_count": 102,
   "metadata": {},
   "outputs": [
    {
     "name": "stdout",
     "output_type": "stream",
     "text": [
      "The 12.580645161290322% of the weeks that the fuel price increased, also the pedal cycle vehicle count increased and the motor vehicle count decreased\n"
     ]
    }
   ],
   "source": [
    "total_fuel_increases = df.filter(df.ulsp_last_week_diff > 0).count()\n",
    "sub_total = df.filter((df.ulsp_last_week_diff > 0) & (df.all_motor_vehicles_week_diff < 0) & (df.pedal_cycles_week_diff > 0)).count()\n",
    "print(f\"The {(sub_total / total_fuel_increases) * 100}% of the weeks that the fuel price increased, also the pedal cycle vehicle count increased and the motor vehicle count decreased\")"
   ]
  },
  {
   "cell_type": "code",
   "execution_count": 103,
   "metadata": {},
   "outputs": [
    {
     "name": "stdout",
     "output_type": "stream",
     "text": [
      "The 13.966480446927374% of the weeks that the fuel price decreased, also the pedal cycle vehicle count decreased and the motor vehicle count increased\n"
     ]
    }
   ],
   "source": [
    "total_fuel_increases = df.filter(df.ulsp_last_week_diff < 0).count()\n",
    "sub_total = df.filter((df.ulsp_last_week_diff < 0) & (df.all_motor_vehicles_week_diff > 0) & (df.pedal_cycles_week_diff < 0)).count()\n",
    "print(f\"The {(sub_total / total_fuel_increases) * 100}% of the weeks that the fuel price decreased, also the pedal cycle vehicle count decreased and the motor vehicle count increased\")"
   ]
  },
  {
   "cell_type": "code",
   "execution_count": 104,
   "metadata": {},
   "outputs": [
    {
     "name": "stdout",
     "output_type": "stream",
     "text": [
      "The 48.60335195530726% of the weeks that the fuel price decreased, the motor vehicle count increased\n"
     ]
    }
   ],
   "source": [
    "total_fuel_increases = df.filter(df.ulsp_last_week_diff < 0).count()\n",
    "sub_total = df.filter((df.ulsp_last_week_diff < 0) & (df.all_motor_vehicles_week_diff > 0)).count()\n",
    "print(f\"The {(sub_total / total_fuel_increases) * 100}% of the weeks that the fuel price decreased, the motor vehicle count increased\")"
   ]
  },
  {
   "cell_type": "code",
   "execution_count": 105,
   "metadata": {},
   "outputs": [
    {
     "name": "stdout",
     "output_type": "stream",
     "text": [
      "The 47.096774193548384% of the weeks that the fuel price increased, the motor vehicle count decreased\n"
     ]
    }
   ],
   "source": [
    "total_fuel_increases = df.filter(df.ulsp_last_week_diff > 0).count()\n",
    "sub_total = df.filter((df.ulsp_last_week_diff > 0) & (df.all_motor_vehicles_week_diff < 0)).count()\n",
    "print(f\"The {(sub_total / total_fuel_increases) * 100}% of the weeks that the fuel price increased, the motor vehicle count decreased\")"
   ]
  },
  {
   "cell_type": "markdown",
   "metadata": {},
   "source": [
    "## Graphically"
   ]
  },
  {
   "cell_type": "code",
   "execution_count": 106,
   "metadata": {},
   "outputs": [],
   "source": [
    "import matplotlib.pyplot as plt"
   ]
  },
  {
   "cell_type": "code",
   "execution_count": 107,
   "metadata": {},
   "outputs": [
    {
     "data": {
      "image/png": "[encoded data removed]",
      "text/plain": [
       "<Figure size 432x288 with 1 Axes>"
      ]
     },
     "metadata": {
      "needs_background": "light"
     },
     "output_type": "display_data"
    },
    {
     "name": "stdout",
     "output_type": "stream",
     "text": [
      "We can't confirm that ulsp fuel price directly affects vehicle count\n"
     ]
    }
   ],
   "source": [
    "x_values = [df.select(\"ulsp_price_litre\").collect()]\n",
    "y_values = [df.select(col(\"all_motor_vehicles\") / 1000000).collect()]\n",
    "#y_values_millions = [y[0]/1000000 for y in y_values]\n",
    "plt.scatter(x_values, y_values)\n",
    "plt.xlabel(\"Fuel Price\")\n",
    "plt.ylabel(\"Motor Vehicle Count in Millions\")\n",
    "plt.title(\"Correlation between ULSP Fuel Price and Motor Vehicle Count\")\n",
    "plt.ticklabel_format(style='plain', axis='y', useOffset=False)\n",
    "plt.show()\n",
    "print(\"We can't confirm that ulsp fuel price directly affects vehicle count\")"
   ]
  },
  {
   "cell_type": "code",
   "execution_count": 108,
   "metadata": {},
   "outputs": [
    {
     "data": {
      "image/png": "[encoded data removed]",
      "text/plain": [
       "<Figure size 432x288 with 1 Axes>"
      ]
     },
     "metadata": {
      "needs_background": "light"
     },
     "output_type": "display_data"
    },
    {
     "name": "stdout",
     "output_type": "stream",
     "text": [
      "We can't confirm that ulsp fuel price directly affects vehicle count\n"
     ]
    }
   ],
   "source": [
    "x_values = [df.select(\"ulsd_price_litre\").collect()]\n",
    "y_values = [df.select(col(\"all_motor_vehicles\") / 1000000).collect()]\n",
    "plt.scatter(x_values, y_values)\n",
    "plt.xlabel(\"Fuel Price\")\n",
    "plt.ylabel(\"Motor Vehicle Count in Millions\")\n",
    "plt.title(\"Correlation between ULSP Fuel Price and Motor Vehicle Count\")\n",
    "plt.ticklabel_format(style='plain', axis='y', useOffset=False)\n",
    "plt.show()\n",
    "print(\"We can't confirm that ulsp fuel price directly affects vehicle count\")"
   ]
  }
 ],
 "metadata": {
  "kernelspec": {
   "display_name": "Python 3",
   "language": "python",
   "name": "python3"
  },
  "language_info": {
   "codemirror_mode": {
    "name": "ipython",
    "version": 3
   },
   "file_extension": ".py",
   "mimetype": "text/x-python",
   "name": "python",
   "nbconvert_exporter": "python",
   "pygments_lexer": "ipython3",
   "version": "3.10.9"
  },
  "orig_nbformat": 4
 },
 "nbformat": 4,
 "nbformat_minor": 2
}
