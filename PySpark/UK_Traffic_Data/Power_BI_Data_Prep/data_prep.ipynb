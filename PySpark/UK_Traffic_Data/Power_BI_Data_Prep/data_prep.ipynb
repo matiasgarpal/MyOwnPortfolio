{
 "cells": [
  {
   "cell_type": "markdown",
   "metadata": {},
   "source": [
    "<h1 align=\"center\"> Challenge Presentation </h1>"
   ]
  },
  {
   "cell_type": "markdown",
   "metadata": {},
   "source": [
    "<div align=\"center\">\n",
    "<img src=\"..\\..\\..\\01_aux_files\\img\\UK_Traffic_Data\\7.png\" height=\"20%\" width=\"30%\"/>\n",
    "<img src=\"..\\..\\..\\01_aux_files\\img\\UK_Traffic_Data\\6.png\" height=\"20%\" width=\"30%\"/>\n",
    "</div>"
   ]
  },
  {
   "cell_type": "markdown",
   "metadata": {},
   "source": [
    "## We will create the following tables for our Power Bi Report\n",
    "* dim_region\n",
    "* dim_vehicle\n",
    "* fact_road_vehicle_count\n",
    "### We will save them to the results folder"
   ]
  },
  {
   "cell_type": "code",
   "execution_count": 61,
   "metadata": {},
   "outputs": [],
   "source": [
    "from pyspark.sql.session import SparkSession\n",
    "from pyspark.sql.functions import col, split, lpad, lit, regexp_replace, concat, upper, trim, coalesce"
   ]
  },
  {
   "cell_type": "code",
   "execution_count": 62,
   "metadata": {},
   "outputs": [],
   "source": [
    "spark = SparkSession.builder.appName(\"myapp\").getOrCreate()"
   ]
  },
  {
   "cell_type": "markdown",
   "metadata": {},
   "source": [
    "## Creating and storing our dim_date"
   ]
  },
  {
   "cell_type": "code",
   "execution_count": 63,
   "metadata": {},
   "outputs": [],
   "source": [
    "import pandas as pd;"
   ]
  },
  {
   "cell_type": "code",
   "execution_count": 64,
   "metadata": {},
   "outputs": [
    {
     "data": {
      "text/html": [
       "<div>\n",
       "<style scoped>\n",
       "    .dataframe tbody tr th:only-of-type {\n",
       "        vertical-align: middle;\n",
       "    }\n",
       "\n",
       "    .dataframe tbody tr th {\n",
       "        vertical-align: top;\n",
       "    }\n",
       "\n",
       "    .dataframe thead th {\n",
       "        text-align: right;\n",
       "    }\n",
       "</style>\n",
       "<table border=\"1\" class=\"dataframe\">\n",
       "  <thead>\n",
       "    <tr style=\"text-align: right;\">\n",
       "      <th></th>\n",
       "      <th>date_id</th>\n",
       "      <th>month</th>\n",
       "      <th>year</th>\n",
       "      <th>date</th>\n",
       "    </tr>\n",
       "  </thead>\n",
       "  <tbody>\n",
       "    <tr>\n",
       "      <th>0</th>\n",
       "      <td>20000101</td>\n",
       "      <td>01</td>\n",
       "      <td>2000</td>\n",
       "      <td>2000-01-01</td>\n",
       "    </tr>\n",
       "    <tr>\n",
       "      <th>1</th>\n",
       "      <td>20000102</td>\n",
       "      <td>01</td>\n",
       "      <td>2000</td>\n",
       "      <td>2000-01-02</td>\n",
       "    </tr>\n",
       "    <tr>\n",
       "      <th>2</th>\n",
       "      <td>20000103</td>\n",
       "      <td>01</td>\n",
       "      <td>2000</td>\n",
       "      <td>2000-01-03</td>\n",
       "    </tr>\n",
       "    <tr>\n",
       "      <th>3</th>\n",
       "      <td>20000104</td>\n",
       "      <td>01</td>\n",
       "      <td>2000</td>\n",
       "      <td>2000-01-04</td>\n",
       "    </tr>\n",
       "    <tr>\n",
       "      <th>4</th>\n",
       "      <td>20000105</td>\n",
       "      <td>01</td>\n",
       "      <td>2000</td>\n",
       "      <td>2000-01-05</td>\n",
       "    </tr>\n",
       "    <tr>\n",
       "      <th>...</th>\n",
       "      <td>...</td>\n",
       "      <td>...</td>\n",
       "      <td>...</td>\n",
       "      <td>...</td>\n",
       "    </tr>\n",
       "    <tr>\n",
       "      <th>9127</th>\n",
       "      <td>20241227</td>\n",
       "      <td>12</td>\n",
       "      <td>2024</td>\n",
       "      <td>2024-12-27</td>\n",
       "    </tr>\n",
       "    <tr>\n",
       "      <th>9128</th>\n",
       "      <td>20241228</td>\n",
       "      <td>12</td>\n",
       "      <td>2024</td>\n",
       "      <td>2024-12-28</td>\n",
       "    </tr>\n",
       "    <tr>\n",
       "      <th>9129</th>\n",
       "      <td>20241229</td>\n",
       "      <td>12</td>\n",
       "      <td>2024</td>\n",
       "      <td>2024-12-29</td>\n",
       "    </tr>\n",
       "    <tr>\n",
       "      <th>9130</th>\n",
       "      <td>20241230</td>\n",
       "      <td>12</td>\n",
       "      <td>2024</td>\n",
       "      <td>2024-12-30</td>\n",
       "    </tr>\n",
       "    <tr>\n",
       "      <th>9131</th>\n",
       "      <td>20241231</td>\n",
       "      <td>12</td>\n",
       "      <td>2024</td>\n",
       "      <td>2024-12-31</td>\n",
       "    </tr>\n",
       "  </tbody>\n",
       "</table>\n",
       "<p>9132 rows × 4 columns</p>\n",
       "</div>"
      ],
      "text/plain": [
       "       date_id month  year       date\n",
       "0     20000101    01  2000 2000-01-01\n",
       "1     20000102    01  2000 2000-01-02\n",
       "2     20000103    01  2000 2000-01-03\n",
       "3     20000104    01  2000 2000-01-04\n",
       "4     20000105    01  2000 2000-01-05\n",
       "...        ...   ...   ...        ...\n",
       "9127  20241227    12  2024 2024-12-27\n",
       "9128  20241228    12  2024 2024-12-28\n",
       "9129  20241229    12  2024 2024-12-29\n",
       "9130  20241230    12  2024 2024-12-30\n",
       "9131  20241231    12  2024 2024-12-31\n",
       "\n",
       "[9132 rows x 4 columns]"
      ]
     },
     "execution_count": 64,
     "metadata": {},
     "output_type": "execute_result"
    }
   ],
   "source": [
    "dates = pd.date_range(start=\"2000-01-01\", end=\"2024-12-31\")\n",
    "\n",
    "df = pd.DataFrame(\n",
    "    {\n",
    "    \"date_id\": dates.strftime(\"%Y%m%d\").astype(int),\n",
    "    \"month\": dates.strftime(\"%m\"),\n",
    "    \"year\": dates.year,\n",
    "    \"date\": dates\n",
    "    }\n",
    ")  \n",
    "df"
   ]
  },
  {
   "cell_type": "code",
   "execution_count": 65,
   "metadata": {},
   "outputs": [
    {
     "name": "stdout",
     "output_type": "stream",
     "text": [
      "dim_time stored!\n"
     ]
    }
   ],
   "source": [
    "df.to_parquet(r\"..\\..\\..\\01_aux_files\\results\\UK_Traffic_Data\\Power_BI\\dim_time\\dim_time.parquet\")\n",
    "print(\"dim_time stored!\")"
   ]
  },
  {
   "cell_type": "markdown",
   "metadata": {},
   "source": [
    "## Extracting the main source"
   ]
  },
  {
   "cell_type": "code",
   "execution_count": 66,
   "metadata": {},
   "outputs": [],
   "source": [
    "df = spark.read.parquet(r\"..\\..\\..\\01_aux_files\\source\\UK_Traffic_Data\\dft_traffic_counts_raw_counts\\dft_traffic_counts_raw_counts.parquet\")\n",
    "new_columns = [col(column).alias(column.lower()) for column in df.columns]\n",
    "df = df.select(*new_columns)"
   ]
  },
  {
   "cell_type": "code",
   "execution_count": 67,
   "metadata": {},
   "outputs": [
    {
     "name": "stdout",
     "output_type": "stream",
     "text": [
      "+--------------+-------------------+----+-------------------+----+---------+-----------+---------------+------------------+--------------------+--------------------+---------+-------------+---------+------------------------+----------------------+-------+--------+------------+------------+--------------+-------------------+------------+--------------------------+--------------+-----------------+----+-----------------+-----------------+-------------------------+----------------------------+-----------------------+-----------------------+--------+------------------+\n",
      "|count_point_id|direction_of_travel|year|         count_date|hour|region_id|region_name|region_ons_code|local_authority_id|local_authority_name|local_authority_code|road_name|road_category|road_type|start_junction_road_name|end_junction_road_name|easting|northing|    latitude|   longitude|link_length_km|  link_length_miles|pedal_cycles|two_wheeled_motor_vehicles|cars_and_taxis|buses_and_coaches|lgvs|hgvs_2_rigid_axle|hgvs_3_rigid_axle|hgvs_4_or_more_rigid_axle|hgvs_3_or_4_articulated_axle|hgvs_5_articulated_axle|hgvs_6_articulated_axle|all_hgvs|all_motor_vehicles|\n",
      "+--------------+-------------------+----+-------------------+----+---------+-----------+---------------+------------------+--------------------+--------------------+---------+-------------+---------+------------------------+----------------------+-------+--------+------------+------------+--------------+-------------------+------------+--------------------------+--------------+-----------------+----+-----------------+-----------------+-------------------------+----------------------------+-----------------------+-----------------------+--------+------------------+\n",
      "|           749|                  E|2014|2014-06-25 00:00:00|   7|        3|   Scotland|      S92000003|                39|       East Ayrshire|           S12000008|      A77|           TA|    Major|             LA boundary|                   A76| 243900|  635900|55.591636456|-4.478605862|          4.60|2.86000000000000000|           0|                         2|           845|                5|  31|               15|                4|                        4|                           4|                     13|                     12|      52|               935|\n",
      "|           749|                  E|2014|2014-06-25 00:00:00|   8|        3|   Scotland|      S92000003|                39|       East Ayrshire|           S12000008|      A77|           TA|    Major|             LA boundary|                   A76| 243900|  635900|55.591636456|-4.478605862|          4.60|2.86000000000000000|           0|                         5|           908|                7| 103|               29|                3|                        2|                           7|                     18|                     20|      79|              1102|\n",
      "|           749|                  E|2014|2014-06-25 00:00:00|   9|        3|   Scotland|      S92000003|                39|       East Ayrshire|           S12000008|      A77|           TA|    Major|             LA boundary|                   A76| 243900|  635900|55.591636456|-4.478605862|          4.60|2.86000000000000000|           0|                         2|           595|               14|  88|               21|                3|                        5|                           9|                     17|                     19|      74|               773|\n",
      "|           749|                  E|2014|2014-06-25 00:00:00|  10|        3|   Scotland|      S92000003|                39|       East Ayrshire|           S12000008|      A77|           TA|    Major|             LA boundary|                   A76| 243900|  635900|55.591636456|-4.478605862|          4.60|2.86000000000000000|           0|                         1|           590|                8|  90|               31|                6|                       10|                           7|                     18|                     17|      89|               778|\n",
      "|           749|                  E|2014|2014-06-25 00:00:00|  11|        3|   Scotland|      S92000003|                39|       East Ayrshire|           S12000008|      A77|           TA|    Major|             LA boundary|                   A76| 243900|  635900|55.591636456|-4.478605862|          4.60|2.86000000000000000|           0|                         2|           695|               18|  75|               38|                2|                        2|                           3|                     16|                     24|      85|               875|\n",
      "|           749|                  E|2014|2014-06-25 00:00:00|  12|        3|   Scotland|      S92000003|                39|       East Ayrshire|           S12000008|      A77|           TA|    Major|             LA boundary|                   A76| 243900|  635900|55.591636456|-4.478605862|          4.60|2.86000000000000000|           0|                         2|           607|                7|  90|               16|                5|                        2|                           4|                      9|                     12|      48|               754|\n",
      "|           749|                  W|2014|2014-06-25 00:00:00|  13|        3|   Scotland|      S92000003|                39|       East Ayrshire|           S12000008|      A77|           TA|    Major|             LA boundary|                   A76| 243900|  635900|55.591636456|-4.478605862|          4.60|2.86000000000000000|           0|                         1|           731|                6|  93|               21|                9|                        3|                           4|                     15|                     13|      65|               896|\n",
      "|           749|                  W|2014|2014-06-25 00:00:00|  14|        3|   Scotland|      S92000003|                39|       East Ayrshire|           S12000008|      A77|           TA|    Major|             LA boundary|                   A76| 243900|  635900|55.591636456|-4.478605862|          4.60|2.86000000000000000|           0|                         0|           809|               10| 102|               24|                8|                        4|                           3|                     14|                     16|      69|               990|\n",
      "|           749|                  W|2014|2014-06-25 00:00:00|  15|        3|   Scotland|      S92000003|                39|       East Ayrshire|           S12000008|      A77|           TA|    Major|             LA boundary|                   A76| 243900|  635900|55.591636456|-4.478605862|          4.60|2.86000000000000000|           0|                         6|           755|               12| 134|               23|                5|                        2|                           6|                     12|                     17|      65|               972|\n",
      "|           749|                  W|2014|2014-06-25 00:00:00|  16|        3|   Scotland|      S92000003|                39|       East Ayrshire|           S12000008|      A77|           TA|    Major|             LA boundary|                   A76| 243900|  635900|55.591636456|-4.478605862|          4.60|2.86000000000000000|           0|                         6|           936|               13| 181|               21|                1|                        1|                           5|                     10|                     10|      48|              1184|\n",
      "|           749|                  W|2014|2014-06-25 00:00:00|  17|        3|   Scotland|      S92000003|                39|       East Ayrshire|           S12000008|      A77|           TA|    Major|             LA boundary|                   A76| 243900|  635900|55.591636456|-4.478605862|          4.60|2.86000000000000000|           0|                         4|          1117|               17|  93|                6|                2|                        2|                           5|                     13|                     12|      40|              1271|\n",
      "|           749|                  W|2014|2014-06-25 00:00:00|  18|        3|   Scotland|      S92000003|                39|       East Ayrshire|           S12000008|      A77|           TA|    Major|             LA boundary|                   A76| 243900|  635900|55.591636456|-4.478605862|          4.60|2.86000000000000000|           0|                         5|           860|                7|  61|                1|                3|                        2|                           1|                      9|                      9|      25|               958|\n",
      "|           749|                  W|2014|2014-06-25 00:00:00|   7|        3|   Scotland|      S92000003|                39|       East Ayrshire|           S12000008|      A77|           TA|    Major|             LA boundary|                   A76| 243900|  635900|55.591636456|-4.478605862|          4.60|2.86000000000000000|           0|                         2|           703|                5| 199|               41|                4|                        7|                           8|                      7|                     11|      78|               987|\n",
      "|           749|                  W|2014|2014-06-25 00:00:00|   8|        3|   Scotland|      S92000003|                39|       East Ayrshire|           S12000008|      A77|           TA|    Major|             LA boundary|                   A76| 243900|  635900|55.591636456|-4.478605862|          4.60|2.86000000000000000|           0|                         0|           925|               10| 193|               46|                2|                        4|                           8|                     12|                      8|      80|              1208|\n",
      "|           749|                  W|2014|2014-06-25 00:00:00|   9|        3|   Scotland|      S92000003|                39|       East Ayrshire|           S12000008|      A77|           TA|    Major|             LA boundary|                   A76| 243900|  635900|55.591636456|-4.478605862|          4.60|2.86000000000000000|           0|                         4|           851|               10| 164|               29|                6|                        6|                           4|                     15|                     15|      75|              1104|\n",
      "|           749|                  W|2014|2014-06-25 00:00:00|  10|        3|   Scotland|      S92000003|                39|       East Ayrshire|           S12000008|      A77|           TA|    Major|             LA boundary|                   A76| 243900|  635900|55.591636456|-4.478605862|          4.60|2.86000000000000000|           0|                         1|           588|               18| 104|               24|                7|                        6|                           5|                     17|                     16|      75|               786|\n",
      "|           749|                  W|2014|2014-06-25 00:00:00|  11|        3|   Scotland|      S92000003|                39|       East Ayrshire|           S12000008|      A77|           TA|    Major|             LA boundary|                   A76| 243900|  635900|55.591636456|-4.478605862|          4.60|2.86000000000000000|           0|                         3|           578|               11| 105|               25|                6|                        1|                          10|                     18|                     21|      81|               778|\n",
      "|           749|                  W|2014|2014-06-25 00:00:00|  12|        3|   Scotland|      S92000003|                39|       East Ayrshire|           S12000008|      A77|           TA|    Major|             LA boundary|                   A76| 243900|  635900|55.591636456|-4.478605862|          4.60|2.86000000000000000|           0|                         0|           623|                7|  79|               26|                4|                        1|                           3|                     11|                     14|      59|               768|\n",
      "|           749|                  E|2014|2014-06-25 00:00:00|  13|        3|   Scotland|      S92000003|                39|       East Ayrshire|           S12000008|      A77|           TA|    Major|             LA boundary|                   A76| 243900|  635900|55.591636456|-4.478605862|          4.60|2.86000000000000000|           0|                         1|           620|                6|  82|               28|                3|                       11|                           7|                     19|                     11|      79|               788|\n",
      "|           749|                  E|2014|2014-06-25 00:00:00|  14|        3|   Scotland|      S92000003|                39|       East Ayrshire|           S12000008|      A77|           TA|    Major|             LA boundary|                   A76| 243900|  635900|55.591636456|-4.478605862|          4.60|2.86000000000000000|           0|                         2|           655|                9| 111|               27|                9|                        6|                           3|                      6|                     13|      64|               841|\n",
      "+--------------+-------------------+----+-------------------+----+---------+-----------+---------------+------------------+--------------------+--------------------+---------+-------------+---------+------------------------+----------------------+-------+--------+------------+------------+--------------+-------------------+------------+--------------------------+--------------+-----------------+----+-----------------+-----------------+-------------------------+----------------------------+-----------------------+-----------------------+--------+------------------+\n",
      "only showing top 20 rows\n",
      "\n"
     ]
    }
   ],
   "source": [
    "df.show()"
   ]
  },
  {
   "cell_type": "code",
   "execution_count": 68,
   "metadata": {},
   "outputs": [
    {
     "data": {
      "text/plain": [
       "[('count_point_id', 'string'),\n",
       " ('direction_of_travel', 'string'),\n",
       " ('year', 'string'),\n",
       " ('count_date', 'string'),\n",
       " ('hour', 'string'),\n",
       " ('region_id', 'string'),\n",
       " ('region_name', 'string'),\n",
       " ('region_ons_code', 'string'),\n",
       " ('local_authority_id', 'string'),\n",
       " ('local_authority_name', 'string'),\n",
       " ('local_authority_code', 'string'),\n",
       " ('road_name', 'string'),\n",
       " ('road_category', 'string'),\n",
       " ('road_type', 'string'),\n",
       " ('start_junction_road_name', 'string'),\n",
       " ('end_junction_road_name', 'string'),\n",
       " ('easting', 'string'),\n",
       " ('northing', 'string'),\n",
       " ('latitude', 'string'),\n",
       " ('longitude', 'string'),\n",
       " ('link_length_km', 'string'),\n",
       " ('link_length_miles', 'string'),\n",
       " ('pedal_cycles', 'string'),\n",
       " ('two_wheeled_motor_vehicles', 'string'),\n",
       " ('cars_and_taxis', 'string'),\n",
       " ('buses_and_coaches', 'string'),\n",
       " ('lgvs', 'string'),\n",
       " ('hgvs_2_rigid_axle', 'string'),\n",
       " ('hgvs_3_rigid_axle', 'string'),\n",
       " ('hgvs_4_or_more_rigid_axle', 'string'),\n",
       " ('hgvs_3_or_4_articulated_axle', 'string'),\n",
       " ('hgvs_5_articulated_axle', 'string'),\n",
       " ('hgvs_6_articulated_axle', 'string'),\n",
       " ('all_hgvs', 'string'),\n",
       " ('all_motor_vehicles', 'string')]"
      ]
     },
     "execution_count": 68,
     "metadata": {},
     "output_type": "execute_result"
    }
   ],
   "source": [
    "df.dtypes"
   ]
  },
  {
   "cell_type": "markdown",
   "metadata": {},
   "source": [
    "### Creating dim_region"
   ]
  },
  {
   "cell_type": "code",
   "execution_count": 69,
   "metadata": {},
   "outputs": [
    {
     "name": "stdout",
     "output_type": "stream",
     "text": [
      "dim_region stored!\n"
     ]
    }
   ],
   "source": [
    "dim_region = df.select(\n",
    "            \"region_id\", \"region_name\", \"road_name\", \"road_category\", \"road_type\",\n",
    "            \"latitude\", \"longitude\"\n",
    "        ).\\\n",
    "        filter( \n",
    "                (col(\"region_id\").isNotNull()) & \n",
    "                (col(\"latitude\").isNotNull()) &\n",
    "                (col(\"longitude\").isNotNull())\n",
    "        ).\\\n",
    "        distinct().\\\n",
    "        withColumn(\"lat_long\", concat(trim(col(\"latitude\")), lit(\", \"), trim(col(\"longitude\")))).\\\n",
    "        withColumn(\"region_id\",   coalesce(col(\"region_id\").cast(\"int\")    , lit(\"NOT SPECIFIED\") )).\\\n",
    "        withColumn(\"region_name\", coalesce(upper(trim(col(\"region_name\"))) , lit(\"NOT SPECIFIED\") )).\\\n",
    "        withColumn(\"road_name\",   coalesce(upper(trim(\"road_name\"))        , lit(\"NOT SPECIFIED\") )).\\\n",
    "        withColumn(\"road_category\", upper(trim(\"road_category\"))).\\\n",
    "        withColumn(\"road_type\", upper(trim(\"road_type\"))).\\\n",
    "        coalesce(1)\n",
    "        #To avoid creating multiple files\n",
    "\n",
    "dim_region.write.parquet(r\"..\\..\\..\\01_aux_files\\results\\UK_Traffic_Data\\Power_BI\\dim_region\", mode=\"overwrite\")\n",
    "print(\"dim_region stored!\")\n"
   ]
  },
  {
   "cell_type": "markdown",
   "metadata": {},
   "source": [
    "### Defining fact (we will make some extra transformations on Power BI)"
   ]
  },
  {
   "cell_type": "code",
   "execution_count": 70,
   "metadata": {},
   "outputs": [],
   "source": [
    "list_of_float_fields = [\"pedal_cycles\", \"two_wheeled_motor_vehicles\", \"cars_and_taxis\", \"buses_and_coaches\", \"lgvs\", \"hgvs_2_rigid_axle\", \"hgvs_3_rigid_axle\", \"hgvs_4_or_more_rigid_axle\",\n",
    "    \"hgvs_3_or_4_articulated_axle\", \"hgvs_5_articulated_axle\", \"hgvs_6_articulated_axle\", \"all_hgvs\", \"all_motor_vehicles\"]"
   ]
  },
  {
   "cell_type": "code",
   "execution_count": 72,
   "metadata": {},
   "outputs": [
    {
     "name": "stdout",
     "output_type": "stream",
     "text": [
      "fact_road_vehicle_count stored!\n"
     ]
    }
   ],
   "source": [
    "fact = df.select(\n",
    "            \"region_id\", \"count_date\", \"pedal_cycles\", \"two_wheeled_motor_vehicles\",\n",
    "            \"cars_and_taxis\", \"buses_and_coaches\", \"lgvs\", \"hgvs_2_rigid_axle\", \"hgvs_3_rigid_axle\", \"hgvs_4_or_more_rigid_axle\",\n",
    "            \"hgvs_3_or_4_articulated_axle\", \"hgvs_5_articulated_axle\", \"hgvs_6_articulated_axle\", \"all_hgvs\", \"all_motor_vehicles\"\n",
    "        ).\\\n",
    "        withColumn(\"region_id\", coalesce(col(\"region_id\").cast(\"int\"), lit(-1))).\\\n",
    "        withColumn(\"date_id\", regexp_replace((split(col(\"count_date\"), \" \").getItem(0)), \"-\", \"\" ).cast(\"int\")).\\\n",
    "        drop(\"count_date\")\n",
    "\n",
    "for colName in list_of_float_fields:\n",
    "    fact.withColumn(colName, col(colName).cast(\"int\"))\n",
    "\n",
    "fact.coalesce(1).write.parquet(r\"..\\..\\..\\01_aux_files\\results\\UK_Traffic_Data\\Power_BI\\fact_road_vehicle_count\", mode=\"overwrite\")\n",
    "\n",
    "print(\"fact_road_vehicle_count stored!\")"
   ]
  }
 ],
 "metadata": {
  "kernelspec": {
   "display_name": "Python 3",
   "language": "python",
   "name": "python3"
  },
  "language_info": {
   "codemirror_mode": {
    "name": "ipython",
    "version": 3
   },
   "file_extension": ".py",
   "mimetype": "text/x-python",
   "name": "python",
   "nbconvert_exporter": "python",
   "pygments_lexer": "ipython3",
   "version": "3.10.9"
  },
  "orig_nbformat": 4
 },
 "nbformat": 4,
 "nbformat_minor": 2
}
