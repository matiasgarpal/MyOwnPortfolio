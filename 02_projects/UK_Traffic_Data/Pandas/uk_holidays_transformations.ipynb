{
 "cells": [
  {
   "cell_type": "markdown",
   "metadata": {},
   "source": [
    "## Little pandas code to get UK holidays between 2000 and 2022 (aas our traffic data)"
   ]
  },
  {
   "cell_type": "markdown",
   "metadata": {},
   "source": [
    "### API REFERENCE: https://date.nager.at/Api"
   ]
  },
  {
   "cell_type": "code",
   "execution_count": 1,
   "metadata": {},
   "outputs": [],
   "source": [
    "import pandas as pd;"
   ]
  },
  {
   "cell_type": "code",
   "execution_count": 2,
   "metadata": {},
   "outputs": [],
   "source": [
    "holidays = pd.DataFrame()\n",
    "\n",
    "for x in range(2000, 2023):\n",
    "    ##Transformations to adjust our data\n",
    "    new = pd.read_json(f'https://date.nager.at/api/v3/PublicHolidays/{x}/GB')\n",
    "    new[[\"name\", \"counties\"]] = new[[\"name\", \"counties\"]].astype(str).apply(lambda x : x.str.upper())\n",
    "    new[\"date\"] = new[\"date\"].dt.date\n",
    "    new[\"holiday_date_id\"] = new[\"date\"].astype(str).str.replace('-', '').astype(int)\n",
    "    new[\"counties\"] = new[\"counties\"].str.replace(\"'GB-NIR'\", \"NORTHERN IRELAND\").\\\n",
    "                                  str.replace(\"'GB-ENG', 'GB-WLS'\", \"ENGLAND AND WALES\").\\\n",
    "                                  str.replace(\"'GB-ENG'\", \"ENGLAND AND WALES\").\\\n",
    "                                  str.replace(\"'GB-WLS'\", \"ENGLAND AND WALES\").\\\n",
    "                                  str.replace(\"'GB-SCT'\", \"SCOTLAND\").\\\n",
    "                                  str.replace('[', '', regex=False).\\\n",
    "                                  str.replace(']', '', regex=False).\\\n",
    "                                  str.replace('NONE', 'GLOBAL').\\\n",
    "                                  str.replace(\", NORTHERN IRELAND\", \"\").\\\n",
    "                                  str.replace(\"ENGLAND AND WALES, SCOTLAND\", \"GLOBAL\") ##If it exists, we will consider it as GLOBAL\n",
    "    new.rename(columns={\"counties\" : \"holiday_region\", \"name\":\"holiday_name\", \"date\":\"holiday_date\"}, inplace=True)\n",
    "    new = new[[\"holiday_date\", \"holiday_region\", \"holiday_name\", \"holiday_date_id\"]]\n",
    "    ## We will discard \"NORTHERN IRELAND\" holidays, because we don't have traffic data from that county.\n",
    "    new = new[new[\"holiday_region\"] != 'NORTHERN IRELAND']\n",
    "    holidays = pd.concat([holidays, new])"
   ]
  },
  {
   "cell_type": "code",
   "execution_count": 3,
   "metadata": {},
   "outputs": [
    {
     "data": {
      "text/html": [
       "<div>\n",
       "<style scoped>\n",
       "    .dataframe tbody tr th:only-of-type {\n",
       "        vertical-align: middle;\n",
       "    }\n",
       "\n",
       "    .dataframe tbody tr th {\n",
       "        vertical-align: top;\n",
       "    }\n",
       "\n",
       "    .dataframe thead th {\n",
       "        text-align: right;\n",
       "    }\n",
       "</style>\n",
       "<table border=\"1\" class=\"dataframe\">\n",
       "  <thead>\n",
       "    <tr style=\"text-align: right;\">\n",
       "      <th></th>\n",
       "      <th>holiday_date</th>\n",
       "      <th>holiday_region</th>\n",
       "      <th>holiday_name</th>\n",
       "      <th>holiday_date_id</th>\n",
       "    </tr>\n",
       "  </thead>\n",
       "  <tbody>\n",
       "    <tr>\n",
       "      <th>1</th>\n",
       "      <td>2000-01-03</td>\n",
       "      <td>ENGLAND AND WALES</td>\n",
       "      <td>NEW YEAR'S DAY</td>\n",
       "      <td>20000103</td>\n",
       "    </tr>\n",
       "    <tr>\n",
       "      <th>2</th>\n",
       "      <td>2000-01-03</td>\n",
       "      <td>SCOTLAND</td>\n",
       "      <td>NEW YEAR'S DAY</td>\n",
       "      <td>20000103</td>\n",
       "    </tr>\n",
       "    <tr>\n",
       "      <th>3</th>\n",
       "      <td>2000-01-04</td>\n",
       "      <td>SCOTLAND</td>\n",
       "      <td>NEW YEAR'S DAY</td>\n",
       "      <td>20000104</td>\n",
       "    </tr>\n",
       "    <tr>\n",
       "      <th>5</th>\n",
       "      <td>2000-04-21</td>\n",
       "      <td>GLOBAL</td>\n",
       "      <td>GOOD FRIDAY</td>\n",
       "      <td>20000421</td>\n",
       "    </tr>\n",
       "    <tr>\n",
       "      <th>6</th>\n",
       "      <td>2000-04-24</td>\n",
       "      <td>ENGLAND AND WALES</td>\n",
       "      <td>EASTER MONDAY</td>\n",
       "      <td>20000424</td>\n",
       "    </tr>\n",
       "    <tr>\n",
       "      <th>...</th>\n",
       "      <td>...</td>\n",
       "      <td>...</td>\n",
       "      <td>...</td>\n",
       "      <td>...</td>\n",
       "    </tr>\n",
       "    <tr>\n",
       "      <th>12</th>\n",
       "      <td>2022-08-29</td>\n",
       "      <td>ENGLAND AND WALES</td>\n",
       "      <td>SUMMER BANK HOLIDAY</td>\n",
       "      <td>20220829</td>\n",
       "    </tr>\n",
       "    <tr>\n",
       "      <th>13</th>\n",
       "      <td>2022-09-19</td>\n",
       "      <td>GLOBAL</td>\n",
       "      <td>QUEEN’S STATE FUNERAL</td>\n",
       "      <td>20220919</td>\n",
       "    </tr>\n",
       "    <tr>\n",
       "      <th>14</th>\n",
       "      <td>2022-11-30</td>\n",
       "      <td>SCOTLAND</td>\n",
       "      <td>SAINT ANDREW'S DAY</td>\n",
       "      <td>20221130</td>\n",
       "    </tr>\n",
       "    <tr>\n",
       "      <th>15</th>\n",
       "      <td>2022-12-26</td>\n",
       "      <td>GLOBAL</td>\n",
       "      <td>ST. STEPHEN'S DAY</td>\n",
       "      <td>20221226</td>\n",
       "    </tr>\n",
       "    <tr>\n",
       "      <th>16</th>\n",
       "      <td>2022-12-27</td>\n",
       "      <td>GLOBAL</td>\n",
       "      <td>CHRISTMAS DAY</td>\n",
       "      <td>20221227</td>\n",
       "    </tr>\n",
       "  </tbody>\n",
       "</table>\n",
       "<p>262 rows × 4 columns</p>\n",
       "</div>"
      ],
      "text/plain": [
       "   holiday_date     holiday_region           holiday_name  holiday_date_id\n",
       "1    2000-01-03  ENGLAND AND WALES         NEW YEAR'S DAY         20000103\n",
       "2    2000-01-03           SCOTLAND         NEW YEAR'S DAY         20000103\n",
       "3    2000-01-04           SCOTLAND         NEW YEAR'S DAY         20000104\n",
       "5    2000-04-21             GLOBAL            GOOD FRIDAY         20000421\n",
       "6    2000-04-24  ENGLAND AND WALES          EASTER MONDAY         20000424\n",
       "..          ...                ...                    ...              ...\n",
       "12   2022-08-29  ENGLAND AND WALES    SUMMER BANK HOLIDAY         20220829\n",
       "13   2022-09-19             GLOBAL  QUEEN’S STATE FUNERAL         20220919\n",
       "14   2022-11-30           SCOTLAND     SAINT ANDREW'S DAY         20221130\n",
       "15   2022-12-26             GLOBAL      ST. STEPHEN'S DAY         20221226\n",
       "16   2022-12-27             GLOBAL          CHRISTMAS DAY         20221227\n",
       "\n",
       "[262 rows x 4 columns]"
      ]
     },
     "execution_count": 3,
     "metadata": {},
     "output_type": "execute_result"
    }
   ],
   "source": [
    "holidays"
   ]
  },
  {
   "cell_type": "code",
   "execution_count": 4,
   "metadata": {},
   "outputs": [],
   "source": [
    "holidays.to_parquet('../../../01_aux_files/source/UK_Traffic_Data/uk_holiday/uk_holidays.parquet')"
   ]
  },
  {
   "cell_type": "code",
   "execution_count": 5,
   "metadata": {},
   "outputs": [
    {
     "name": "stdout",
     "output_type": "stream",
     "text": [
      "Great!\n"
     ]
    }
   ],
   "source": [
    "print(\"Great!\")"
   ]
  }
 ],
 "metadata": {
  "kernelspec": {
   "display_name": "Python 3",
   "language": "python",
   "name": "python3"
  },
  "language_info": {
   "codemirror_mode": {
    "name": "ipython",
    "version": 3
   },
   "file_extension": ".py",
   "mimetype": "text/x-python",
   "name": "python",
   "nbconvert_exporter": "python",
   "pygments_lexer": "ipython3",
   "version": "3.10.9"
  },
  "orig_nbformat": 4
 },
 "nbformat": 4,
 "nbformat_minor": 2
}
