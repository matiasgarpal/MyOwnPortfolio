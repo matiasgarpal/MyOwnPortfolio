{
 "cells": [
  {
   "cell_type": "markdown",
   "metadata": {},
   "source": [
    "<h1 align='center'> Challenge Presentation </h1>"
   ]
  },
  {
   "cell_type": "markdown",
   "metadata": {},
   "source": [
    "<div align='center'>\n",
    "<img src=\"..\\..\\aux_files\\img\\UK_Traffic_Data\\1.png\" height='20%' width='20%'/>\n",
    "<img src=\"..\\..\\aux_files\\img\\UK_Traffic_Data\\2.png\" height='20%' width='20%'/>\n",
    "<img src=\"..\\..\\aux_files\\img\\UK_Traffic_Data\\3.png\" height='20%' width='20%'/>\n",
    "</div>\n",
    "<div align='center'>\n",
    "<img src=\"..\\..\\aux_files\\img\\UK_Traffic_Data\\4.png\" height='20%' width='20%'/>\n",
    "<img src=\"..\\..\\aux_files\\img\\UK_Traffic_Data\\5.png\" height='20%' width='20%'/>\n",
    "<img src=\"..\\..\\aux_files\\img\\UK_Traffic_Data\\6.png\" height='20%' width='20%'/>\n",
    "</div>\n",
    "<div align='center'><img src=\"..\\..\\aux_files\\img\\UK_Traffic_Data\\7.png\" height='20%' width='20%'/></div>\n",
    "\n"
   ]
  },
  {
   "cell_type": "markdown",
   "metadata": {},
   "source": [
    "### Importing necessary libraries"
   ]
  },
  {
   "cell_type": "code",
   "execution_count": 72,
   "metadata": {},
   "outputs": [],
   "source": [
    "from pyspark.sql.session import SparkSession\n",
    "from pyspark.sql import Row\n",
    "from pyspark.sql.functions import col, to_date, split, weekofyear, month, lpad"
   ]
  },
  {
   "cell_type": "markdown",
   "metadata": {},
   "source": [
    "### Defining Spark Session"
   ]
  },
  {
   "cell_type": "code",
   "execution_count": 73,
   "metadata": {},
   "outputs": [],
   "source": [
    "spark = SparkSession.builder.appName(\"myapp\").getOrCreate()"
   ]
  },
  {
   "cell_type": "markdown",
   "metadata": {},
   "source": [
    "### Consuming data and cleaning column names"
   ]
  },
  {
   "cell_type": "code",
   "execution_count": 74,
   "metadata": {},
   "outputs": [],
   "source": [
    "df = spark.read.parquet(r'..\\..\\aux_files\\source\\UK_Traffic_Data\\dft_traffic_counts_raw_counts\\dft_traffic_counts_raw_counts.parquet')\n",
    "new_columns = [col(column).alias(column.lower()) for column in df.columns]\n",
    "df = df.select(*new_columns)"
   ]
  },
  {
   "cell_type": "markdown",
   "metadata": {},
   "source": [
    "### First of all, let's check our data"
   ]
  },
  {
   "cell_type": "markdown",
   "metadata": {},
   "source": [
    "AADF: Annual average daily flows\n",
    "* Count_point_id – a unique reference for the road link that links the AADFs to the road network.\n",
    "* Direction_of_travel – Direction of travel.\n",
    "* Year – Counts are shown for each year from 2000 onwards.\n",
    "* Count_date – the date when the actual count took place.\n",
    "* Hour – the time when the counts in questions took place where 7 represents between 7am and 8am, and 17 represents between 5pm and 6pm.\n",
    "* Region_id – Website region identifier.\n",
    "* Region_name – the name of the Region that the CP sits within.\n",
    "* Region_ons_code – the Office for National Statistics code identifier for the region.\n",
    "* Local_authority_id – Website local authority identifier.\n",
    "* Local_authority_name – the local authority that the CP sits within\n",
    "* Local_authority_code – the Office for National Statistics code identifier for the local authority.\n",
    "* Road_name – this is the road name (for instance M25 or A3).\n",
    "* Road_category – the classification of the road type (see data definitions for the full list).\n",
    "* Road_type – Whether the road is a ‘major’ or ‘minor’ road.\n",
    "* Start_junction_road_name – The road name of the start junction of the link\n",
    "* End_junction_road_name – The road name of the end junction of the link\n",
    "* Easting – Easting coordinates of the CP location.\n",
    "* Northing – Northing coordinates of the CP location.\n",
    "* Latitude – Latitude of the CP location.\n",
    "* Longitude – Longitude of the CP location.\n",
    "* Link_length_km – Total length of the network road link for that CP (in kilometres).\n",
    "* Link_length _miles – Total length of the network road link for that CP (in miles).\n",
    "* Pedal_cycles – Counts for pedal cycles.\n",
    "* Two_wheeled_motor_vehicles – Counts for two-wheeled motor vehicles.\n",
    "* Cars_and_taxis - Counts for Cars and Taxis.\n",
    "* Buses_and_coaches – Counts for Buses and Coaches\n",
    "* LGVs – Counts for LGVs.\n",
    "* HGVs_2_rigid_axle – Counts for two-rigid axle HGVs.\n",
    "* HGVs_3_rigid_axle – Counts for three-rigid axle HGVs.\n",
    "* HGVs_4_or_more_rigid_axle – Counts for four or more rigid axle HGVs.\n",
    "* HGVs_3_or_4_articulated_axle – Counts for three or four-articulated axle HGVs.\n",
    "* HGVs_5_articulated_axle – Counts for five-articulated axle HGVs.\n",
    "* HGVs_6_articulated_axle – Counts for six-articulated axle HGVs.\n",
    "* All_HGVs – Counts for all HGVs.\n",
    "* All_motor_vehicles – Counts for all motor vehicles."
   ]
  },
  {
   "cell_type": "code",
   "execution_count": 75,
   "metadata": {},
   "outputs": [
    {
     "name": "stdout",
     "output_type": "stream",
     "text": [
      "+--------------+-------------------+----+-------------------+----+---------+-----------+---------------+------------------+--------------------+--------------------+---------+-------------+---------+------------------------+----------------------+-------+--------+------------+------------+--------------+-------------------+------------+--------------------------+--------------+-----------------+----+-----------------+-----------------+-------------------------+----------------------------+-----------------------+-----------------------+--------+------------------+\n",
      "|count_point_id|direction_of_travel|year|         count_date|hour|region_id|region_name|region_ons_code|local_authority_id|local_authority_name|local_authority_code|road_name|road_category|road_type|start_junction_road_name|end_junction_road_name|easting|northing|    latitude|   longitude|link_length_km|  link_length_miles|pedal_cycles|two_wheeled_motor_vehicles|cars_and_taxis|buses_and_coaches|lgvs|hgvs_2_rigid_axle|hgvs_3_rigid_axle|hgvs_4_or_more_rigid_axle|hgvs_3_or_4_articulated_axle|hgvs_5_articulated_axle|hgvs_6_articulated_axle|all_hgvs|all_motor_vehicles|\n",
      "+--------------+-------------------+----+-------------------+----+---------+-----------+---------------+------------------+--------------------+--------------------+---------+-------------+---------+------------------------+----------------------+-------+--------+------------+------------+--------------+-------------------+------------+--------------------------+--------------+-----------------+----+-----------------+-----------------+-------------------------+----------------------------+-----------------------+-----------------------+--------+------------------+\n",
      "|           749|                  E|2014|2014-06-25 00:00:00|   7|        3|   Scotland|      S92000003|                39|       East Ayrshire|           S12000008|      A77|           TA|    Major|             LA boundary|                   A76| 243900|  635900|55.591636456|-4.478605862|          4.60|2.86000000000000000|           0|                         2|           845|                5|  31|               15|                4|                        4|                           4|                     13|                     12|      52|               935|\n",
      "|           749|                  E|2014|2014-06-25 00:00:00|   8|        3|   Scotland|      S92000003|                39|       East Ayrshire|           S12000008|      A77|           TA|    Major|             LA boundary|                   A76| 243900|  635900|55.591636456|-4.478605862|          4.60|2.86000000000000000|           0|                         5|           908|                7| 103|               29|                3|                        2|                           7|                     18|                     20|      79|              1102|\n",
      "|           749|                  E|2014|2014-06-25 00:00:00|   9|        3|   Scotland|      S92000003|                39|       East Ayrshire|           S12000008|      A77|           TA|    Major|             LA boundary|                   A76| 243900|  635900|55.591636456|-4.478605862|          4.60|2.86000000000000000|           0|                         2|           595|               14|  88|               21|                3|                        5|                           9|                     17|                     19|      74|               773|\n",
      "|           749|                  E|2014|2014-06-25 00:00:00|  10|        3|   Scotland|      S92000003|                39|       East Ayrshire|           S12000008|      A77|           TA|    Major|             LA boundary|                   A76| 243900|  635900|55.591636456|-4.478605862|          4.60|2.86000000000000000|           0|                         1|           590|                8|  90|               31|                6|                       10|                           7|                     18|                     17|      89|               778|\n",
      "|           749|                  E|2014|2014-06-25 00:00:00|  11|        3|   Scotland|      S92000003|                39|       East Ayrshire|           S12000008|      A77|           TA|    Major|             LA boundary|                   A76| 243900|  635900|55.591636456|-4.478605862|          4.60|2.86000000000000000|           0|                         2|           695|               18|  75|               38|                2|                        2|                           3|                     16|                     24|      85|               875|\n",
      "|           749|                  E|2014|2014-06-25 00:00:00|  12|        3|   Scotland|      S92000003|                39|       East Ayrshire|           S12000008|      A77|           TA|    Major|             LA boundary|                   A76| 243900|  635900|55.591636456|-4.478605862|          4.60|2.86000000000000000|           0|                         2|           607|                7|  90|               16|                5|                        2|                           4|                      9|                     12|      48|               754|\n",
      "|           749|                  W|2014|2014-06-25 00:00:00|  13|        3|   Scotland|      S92000003|                39|       East Ayrshire|           S12000008|      A77|           TA|    Major|             LA boundary|                   A76| 243900|  635900|55.591636456|-4.478605862|          4.60|2.86000000000000000|           0|                         1|           731|                6|  93|               21|                9|                        3|                           4|                     15|                     13|      65|               896|\n",
      "|           749|                  W|2014|2014-06-25 00:00:00|  14|        3|   Scotland|      S92000003|                39|       East Ayrshire|           S12000008|      A77|           TA|    Major|             LA boundary|                   A76| 243900|  635900|55.591636456|-4.478605862|          4.60|2.86000000000000000|           0|                         0|           809|               10| 102|               24|                8|                        4|                           3|                     14|                     16|      69|               990|\n",
      "|           749|                  W|2014|2014-06-25 00:00:00|  15|        3|   Scotland|      S92000003|                39|       East Ayrshire|           S12000008|      A77|           TA|    Major|             LA boundary|                   A76| 243900|  635900|55.591636456|-4.478605862|          4.60|2.86000000000000000|           0|                         6|           755|               12| 134|               23|                5|                        2|                           6|                     12|                     17|      65|               972|\n",
      "|           749|                  W|2014|2014-06-25 00:00:00|  16|        3|   Scotland|      S92000003|                39|       East Ayrshire|           S12000008|      A77|           TA|    Major|             LA boundary|                   A76| 243900|  635900|55.591636456|-4.478605862|          4.60|2.86000000000000000|           0|                         6|           936|               13| 181|               21|                1|                        1|                           5|                     10|                     10|      48|              1184|\n",
      "|           749|                  W|2014|2014-06-25 00:00:00|  17|        3|   Scotland|      S92000003|                39|       East Ayrshire|           S12000008|      A77|           TA|    Major|             LA boundary|                   A76| 243900|  635900|55.591636456|-4.478605862|          4.60|2.86000000000000000|           0|                         4|          1117|               17|  93|                6|                2|                        2|                           5|                     13|                     12|      40|              1271|\n",
      "|           749|                  W|2014|2014-06-25 00:00:00|  18|        3|   Scotland|      S92000003|                39|       East Ayrshire|           S12000008|      A77|           TA|    Major|             LA boundary|                   A76| 243900|  635900|55.591636456|-4.478605862|          4.60|2.86000000000000000|           0|                         5|           860|                7|  61|                1|                3|                        2|                           1|                      9|                      9|      25|               958|\n",
      "|           749|                  W|2014|2014-06-25 00:00:00|   7|        3|   Scotland|      S92000003|                39|       East Ayrshire|           S12000008|      A77|           TA|    Major|             LA boundary|                   A76| 243900|  635900|55.591636456|-4.478605862|          4.60|2.86000000000000000|           0|                         2|           703|                5| 199|               41|                4|                        7|                           8|                      7|                     11|      78|               987|\n",
      "|           749|                  W|2014|2014-06-25 00:00:00|   8|        3|   Scotland|      S92000003|                39|       East Ayrshire|           S12000008|      A77|           TA|    Major|             LA boundary|                   A76| 243900|  635900|55.591636456|-4.478605862|          4.60|2.86000000000000000|           0|                         0|           925|               10| 193|               46|                2|                        4|                           8|                     12|                      8|      80|              1208|\n",
      "|           749|                  W|2014|2014-06-25 00:00:00|   9|        3|   Scotland|      S92000003|                39|       East Ayrshire|           S12000008|      A77|           TA|    Major|             LA boundary|                   A76| 243900|  635900|55.591636456|-4.478605862|          4.60|2.86000000000000000|           0|                         4|           851|               10| 164|               29|                6|                        6|                           4|                     15|                     15|      75|              1104|\n",
      "|           749|                  W|2014|2014-06-25 00:00:00|  10|        3|   Scotland|      S92000003|                39|       East Ayrshire|           S12000008|      A77|           TA|    Major|             LA boundary|                   A76| 243900|  635900|55.591636456|-4.478605862|          4.60|2.86000000000000000|           0|                         1|           588|               18| 104|               24|                7|                        6|                           5|                     17|                     16|      75|               786|\n",
      "|           749|                  W|2014|2014-06-25 00:00:00|  11|        3|   Scotland|      S92000003|                39|       East Ayrshire|           S12000008|      A77|           TA|    Major|             LA boundary|                   A76| 243900|  635900|55.591636456|-4.478605862|          4.60|2.86000000000000000|           0|                         3|           578|               11| 105|               25|                6|                        1|                          10|                     18|                     21|      81|               778|\n",
      "|           749|                  W|2014|2014-06-25 00:00:00|  12|        3|   Scotland|      S92000003|                39|       East Ayrshire|           S12000008|      A77|           TA|    Major|             LA boundary|                   A76| 243900|  635900|55.591636456|-4.478605862|          4.60|2.86000000000000000|           0|                         0|           623|                7|  79|               26|                4|                        1|                           3|                     11|                     14|      59|               768|\n",
      "|           749|                  E|2014|2014-06-25 00:00:00|  13|        3|   Scotland|      S92000003|                39|       East Ayrshire|           S12000008|      A77|           TA|    Major|             LA boundary|                   A76| 243900|  635900|55.591636456|-4.478605862|          4.60|2.86000000000000000|           0|                         1|           620|                6|  82|               28|                3|                       11|                           7|                     19|                     11|      79|               788|\n",
      "|           749|                  E|2014|2014-06-25 00:00:00|  14|        3|   Scotland|      S92000003|                39|       East Ayrshire|           S12000008|      A77|           TA|    Major|             LA boundary|                   A76| 243900|  635900|55.591636456|-4.478605862|          4.60|2.86000000000000000|           0|                         2|           655|                9| 111|               27|                9|                        6|                           3|                      6|                     13|      64|               841|\n",
      "+--------------+-------------------+----+-------------------+----+---------+-----------+---------------+------------------+--------------------+--------------------+---------+-------------+---------+------------------------+----------------------+-------+--------+------------+------------+--------------+-------------------+------------+--------------------------+--------------+-----------------+----+-----------------+-----------------+-------------------------+----------------------------+-----------------------+-----------------------+--------+------------------+\n",
      "only showing top 20 rows\n",
      "\n"
     ]
    }
   ],
   "source": [
    "df.show()"
   ]
  },
  {
   "cell_type": "markdown",
   "metadata": {},
   "source": [
    "### As we don't need to distinguish between vehicle types, we will delete all numeric columns but \"all_motor_vehicles\" and \"pedal_cycles\".\n",
    "### We will also delete every unnecessary column for this challenge."
   ]
  },
  {
   "cell_type": "code",
   "execution_count": 76,
   "metadata": {},
   "outputs": [],
   "source": [
    "df = df.select([\"year\", \"count_date\", \"hour\", \"pedal_cycles\", \"all_motor_vehicles\"])"
   ]
  },
  {
   "cell_type": "code",
   "execution_count": 77,
   "metadata": {},
   "outputs": [
    {
     "name": "stdout",
     "output_type": "stream",
     "text": [
      "+----+-------------------+----+------------+------------------+\n",
      "|year|         count_date|hour|pedal_cycles|all_motor_vehicles|\n",
      "+----+-------------------+----+------------+------------------+\n",
      "|2014|2014-06-25 00:00:00|   7|           0|               935|\n",
      "|2014|2014-06-25 00:00:00|   8|           0|              1102|\n",
      "|2014|2014-06-25 00:00:00|   9|           0|               773|\n",
      "|2014|2014-06-25 00:00:00|  10|           0|               778|\n",
      "|2014|2014-06-25 00:00:00|  11|           0|               875|\n",
      "|2014|2014-06-25 00:00:00|  12|           0|               754|\n",
      "|2014|2014-06-25 00:00:00|  13|           0|               896|\n",
      "|2014|2014-06-25 00:00:00|  14|           0|               990|\n",
      "|2014|2014-06-25 00:00:00|  15|           0|               972|\n",
      "|2014|2014-06-25 00:00:00|  16|           0|              1184|\n",
      "|2014|2014-06-25 00:00:00|  17|           0|              1271|\n",
      "|2014|2014-06-25 00:00:00|  18|           0|               958|\n",
      "|2014|2014-06-25 00:00:00|   7|           0|               987|\n",
      "|2014|2014-06-25 00:00:00|   8|           0|              1208|\n",
      "|2014|2014-06-25 00:00:00|   9|           0|              1104|\n",
      "|2014|2014-06-25 00:00:00|  10|           0|               786|\n",
      "|2014|2014-06-25 00:00:00|  11|           0|               778|\n",
      "|2014|2014-06-25 00:00:00|  12|           0|               768|\n",
      "|2014|2014-06-25 00:00:00|  13|           0|               788|\n",
      "|2014|2014-06-25 00:00:00|  14|           0|               841|\n",
      "+----+-------------------+----+------------+------------------+\n",
      "only showing top 20 rows\n",
      "\n"
     ]
    }
   ],
   "source": [
    "df.show()"
   ]
  },
  {
   "cell_type": "markdown",
   "metadata": {},
   "source": [
    "### Let's make every transformation needed for this challenge"
   ]
  },
  {
   "cell_type": "code",
   "execution_count": 78,
   "metadata": {},
   "outputs": [],
   "source": [
    "df = df.withColumn(\"count_date\", to_date(split(col(\"count_date\"), ' ').getItem(0), format='yyyy-MM-dd')).\\\n",
    "        withColumnRenamed(\"count_date\", \"date\").\\\n",
    "        withColumn(\"pedal_cycles\", col(\"pedal_cycles\").cast('integer') ).\\\n",
    "        withColumn(\"all_motor_vehicles\", col(\"all_motor_vehicles\").cast('integer')).\\\n",
    "        withColumn(\"month\", lpad( month(col(\"date\")).cast('string'), 2, '0') ).\\\n",
    "        withColumn(\"weekNumber\", lpad( weekofyear(col(\"date\")).cast('string'), 2, '0') )"
   ]
  },
  {
   "cell_type": "code",
   "execution_count": 79,
   "metadata": {},
   "outputs": [
    {
     "name": "stdout",
     "output_type": "stream",
     "text": [
      "+----+\n",
      "|hour|\n",
      "+----+\n",
      "|   7|\n",
      "|  15|\n",
      "|  11|\n",
      "|   3|\n",
      "|   8|\n",
      "|  16|\n",
      "|   0|\n",
      "|   5|\n",
      "|  18|\n",
      "|  17|\n",
      "|   9|\n",
      "|   1|\n",
      "|  10|\n",
      "|   4|\n",
      "|  12|\n",
      "|  13|\n",
      "|  14|\n",
      "+----+\n",
      "\n"
     ]
    }
   ],
   "source": [
    "df.select(col(\"hour\")).distinct().show()"
   ]
  }
 ],
 "metadata": {
  "kernelspec": {
   "display_name": "Python 3",
   "language": "python",
   "name": "python3"
  },
  "language_info": {
   "codemirror_mode": {
    "name": "ipython",
    "version": 3
   },
   "file_extension": ".py",
   "mimetype": "text/x-python",
   "name": "python",
   "nbconvert_exporter": "python",
   "pygments_lexer": "ipython3",
   "version": "3.10.9"
  },
  "orig_nbformat": 4
 },
 "nbformat": 4,
 "nbformat_minor": 2
}
