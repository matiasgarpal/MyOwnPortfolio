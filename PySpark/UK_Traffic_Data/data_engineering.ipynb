{
 "cells": [
  {
   "cell_type": "markdown",
   "metadata": {},
   "source": [
    "<h1 align='center'> Challenge Presentation </h1>"
   ]
  },
  {
   "cell_type": "markdown",
   "metadata": {},
   "source": [
    "<div align='center'>\n",
    "<img src=\"..\\..\\aux_files\\img\\UK_Traffic_Data\\1.png\" height='20%' width='20%'/>\n",
    "<img src=\"..\\..\\aux_files\\img\\UK_Traffic_Data\\2.png\" height='20%' width='20%'/>\n",
    "<img src=\"..\\..\\aux_files\\img\\UK_Traffic_Data\\3.png\" height='20%' width='20%'/>\n",
    "</div>\n",
    "<div align='center'>\n",
    "<img src=\"..\\..\\aux_files\\img\\UK_Traffic_Data\\4.png\" height='20%' width='20%'/>\n",
    "<img src=\"..\\..\\aux_files\\img\\UK_Traffic_Data\\5.png\" height='20%' width='20%'/>\n",
    "<img src=\"..\\..\\aux_files\\img\\UK_Traffic_Data\\6.png\" height='20%' width='20%'/>\n",
    "</div>\n",
    "<div align='center'><img src=\"..\\..\\aux_files\\img\\UK_Traffic_Data\\7.png\" height='20%' width='20%'/></div>\n",
    "\n"
   ]
  },
  {
   "cell_type": "markdown",
   "metadata": {},
   "source": []
  },
  {
   "cell_type": "code",
   "execution_count": null,
   "metadata": {},
   "outputs": [],
   "source": []
  },
  {
   "cell_type": "code",
   "execution_count": null,
   "metadata": {},
   "outputs": [],
   "source": []
  }
 ],
 "metadata": {
  "kernelspec": {
   "display_name": "Python 3",
   "language": "python",
   "name": "python3"
  },
  "language_info": {
   "name": "python",
   "version": "3.10.9"
  },
  "orig_nbformat": 4
 },
 "nbformat": 4,
 "nbformat_minor": 2
}
